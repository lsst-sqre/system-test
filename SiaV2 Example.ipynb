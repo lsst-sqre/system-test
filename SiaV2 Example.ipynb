{
 "cells": [
  {
   "cell_type": "code",
   "execution_count": 1,
   "id": "b6f3db62-b15c-456c-a7ae-ac16dd7586f3",
   "metadata": {
    "execution": {
     "iopub.execute_input": "2023-11-21T22:33:57.012486Z",
     "iopub.status.busy": "2023-11-21T22:33:57.012367Z",
     "iopub.status.idle": "2023-11-21T22:33:57.936079Z",
     "shell.execute_reply": "2023-11-21T22:33:57.935383Z",
     "shell.execute_reply.started": "2023-11-21T22:33:57.012473Z"
    },
    "tags": []
   },
   "outputs": [
    {
     "ename": "ImportError",
     "evalue": "cannot import name 'SIA2Service' from 'pyvo.dal' (/home/c/cbanek/env/lib/python3.11/site-packages/pyvo/dal/__init__.py)",
     "output_type": "error",
     "traceback": [
      "\u001b[0;31m---------------------------------------------------------------------------\u001b[0m",
      "\u001b[0;31mImportError\u001b[0m                               Traceback (most recent call last)",
      "Cell \u001b[0;32mIn[1], line 14\u001b[0m\n\u001b[1;32m     12\u001b[0m \u001b[38;5;28;01mimport\u001b[39;00m \u001b[38;5;21;01mpyvo\u001b[39;00m\u001b[38;5;21;01m.\u001b[39;00m\u001b[38;5;21;01mdal\u001b[39;00m \u001b[38;5;66;03m# Need this to prevent circular imports\u001b[39;00m\n\u001b[1;32m     13\u001b[0m \u001b[38;5;28;01mimport\u001b[39;00m \u001b[38;5;21;01mpyvo\u001b[39;00m\u001b[38;5;21;01m.\u001b[39;00m\u001b[38;5;21;01mauth\u001b[39;00m\u001b[38;5;21;01m.\u001b[39;00m\u001b[38;5;21;01mauthsession\u001b[39;00m\n\u001b[0;32m---> 14\u001b[0m \u001b[38;5;28;01mfrom\u001b[39;00m \u001b[38;5;21;01mpyvo\u001b[39;00m\u001b[38;5;21;01m.\u001b[39;00m\u001b[38;5;21;01mdal\u001b[39;00m \u001b[38;5;28;01mimport\u001b[39;00m SIA2Service\n\u001b[1;32m     15\u001b[0m \u001b[38;5;28;01mfrom\u001b[39;00m \u001b[38;5;21;01mpyvo\u001b[39;00m\u001b[38;5;21;01m.\u001b[39;00m\u001b[38;5;21;01mdal\u001b[39;00m\u001b[38;5;21;01m.\u001b[39;00m\u001b[38;5;21;01madhoc\u001b[39;00m \u001b[38;5;28;01mimport\u001b[39;00m DatalinkResults\n\u001b[1;32m     17\u001b[0m \u001b[38;5;28;01mimport\u001b[39;00m \u001b[38;5;21;01mrequests\u001b[39;00m\n",
      "\u001b[0;31mImportError\u001b[0m: cannot import name 'SIA2Service' from 'pyvo.dal' (/home/c/cbanek/env/lib/python3.11/site-packages/pyvo/dal/__init__.py)"
     ]
    }
   ],
   "source": [
    "import os\n",
    "import random\n",
    "\n",
    "from astropy.io import fits\n",
    "from astropy.utils.data import download_file\n",
    "from astropy.visualization import imshow_norm, ZScaleInterval\n",
    "from astropy.visualization.stretch import  SqrtStretch\n",
    "\n",
    "\n",
    "import matplotlib.pyplot as plt\n",
    "\n",
    "import pyvo.dal # Need this to prevent circular imports\n",
    "import pyvo.auth.authsession\n",
    "from pyvo.dal import SIA2Service\n",
    "from pyvo.dal.adhoc import DatalinkResults\n",
    "\n",
    "import requests\n",
    "\n",
    "\n",
    "def _get_auth():\n",
    "    s = requests.Session()\n",
    "\n",
    "    token = os.environ[\"ACCESS_TOKEN\"]\n",
    "    s.headers[\"Authorization\"] = \"Bearer \" + token\n",
    "    auth = pyvo.auth.authsession.AuthSession()\n",
    "    auth.credentials.set(\"lsst-token\", s)\n",
    "\n",
    "    auth.add_security_method_for_url(\"https://usdf-rsp-dev.slac.stanford.edu/api/datalink\", \"lsst-token\")\n",
    "    auth.add_security_method_for_url(\"https://usdf-rsp-dev.slac.stanford.edu/api/siav2\", \"lsst-token\")\n",
    "    auth.add_security_method_for_url(\"https://usdf-rsp-dev.slac.stanford.edu/api/siav2/query\", \"lsst-token\")\n",
    "\n",
    "    return auth\n",
    "\n",
    "auth = _get_auth()\n",
    "\n",
    "service = SIA2Service(\n",
    "    \"https://usdf-rsp-dev.slac.stanford.edu/api/siav2/\",\n",
    "    session=auth\n",
    ")\n",
    "\n",
    "def get_datalink_result(result):\n",
    "    return DatalinkResults.from_result_url(result.getdataurl(),session=auth)"
   ]
  },
  {
   "cell_type": "code",
   "execution_count": null,
   "id": "96d6264f-eabb-4d18-9388-84b5fe5eb27d",
   "metadata": {
    "tags": []
   },
   "outputs": [],
   "source": [
    "results = service.search(pos=(13.307, -72.517, 1.0))\n",
    "results.to_table()"
   ]
  },
  {
   "cell_type": "code",
   "execution_count": null,
   "id": "30a542c8-ae18-440b-9d12-5665415e30ca",
   "metadata": {
    "tags": []
   },
   "outputs": [],
   "source": [
    "# Extract the access URL from the result in the first row\n",
    "result = random.choice(results)\n",
    "f\"Datalink link service url: {result.getdataurl()}\""
   ]
  },
  {
   "cell_type": "code",
   "execution_count": null,
   "id": "976bced7-2c4f-4722-acdf-6da6ed985c81",
   "metadata": {
    "tags": []
   },
   "outputs": [],
   "source": [
    "dl_result = get_datalink_result(result)\n",
    "dl_result.to_table().show_in_notebook()"
   ]
  },
  {
   "cell_type": "code",
   "execution_count": null,
   "id": "f95b561c-ac30-4c09-92dd-8d4be4eec9a6",
   "metadata": {
    "tags": []
   },
   "outputs": [],
   "source": [
    "# Full image of calexp - not a cutout\n",
    "image_url = dl_result.getrecord(0).get('access_url')\n",
    "image_url"
   ]
  },
  {
   "cell_type": "code",
   "execution_count": null,
   "id": "ff880647-1215-4157-977c-d0933ea0152a",
   "metadata": {
    "tags": []
   },
   "outputs": [],
   "source": [
    "# Now let's download the image \n",
    "# filename = download_file(image_url)\n",
    "# filename"
   ]
  },
  {
   "cell_type": "code",
   "execution_count": null,
   "id": "18d53f7e-9919-4bec-888e-a3a18b74cdb6",
   "metadata": {
    "tags": []
   },
   "outputs": [],
   "source": [
    "hdulist = fits.open(image_url)\n",
    "\n",
    "for hdu in hdulist:\n",
    "    print(hdu.name)"
   ]
  },
  {
   "cell_type": "code",
   "execution_count": null,
   "id": "33e1062c-5efa-46e8-979c-e4e84e9d62b0",
   "metadata": {
    "tags": []
   },
   "outputs": [],
   "source": [
    "# Let's plot the image and see what it looks like...\n",
    "image = hdulist[1].data\n",
    "\n",
    "fig = plt.figure()\n",
    "ax = fig.add_subplot(1, 1, 1)\n",
    "im = imshow_norm(image, ax, origin='lower', interval=ZScaleInterval(), stretch=SqrtStretch(), cmap='gray')\n",
    "fig.colorbar(im[0])"
   ]
  },
  {
   "cell_type": "code",
   "execution_count": null,
   "id": "8d4d7dea-20c4-4358-85e9-22facb863ea5",
   "metadata": {},
   "outputs": [],
   "source": []
  },
  {
   "cell_type": "code",
   "execution_count": null,
   "id": "4e6fde73-e04f-44aa-85ca-6033c73629af",
   "metadata": {},
   "outputs": [],
   "source": []
  }
 ],
 "metadata": {
  "kernelspec": {
   "display_name": "my-python3-kernel",
   "language": "python",
   "name": "my-python3-kernel"
  },
  "language_info": {
   "codemirror_mode": {
    "name": "ipython",
    "version": 3
   },
   "file_extension": ".py",
   "mimetype": "text/x-python",
   "name": "python",
   "nbconvert_exporter": "python",
   "pygments_lexer": "ipython3",
   "version": "3.11.4"
  }
 },
 "nbformat": 4,
 "nbformat_minor": 5
}
