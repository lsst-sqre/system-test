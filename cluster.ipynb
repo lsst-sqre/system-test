{
 "cells": [
  {
   "cell_type": "markdown",
   "metadata": {},
   "source": [
    "# Whiting I\n",
    "This notebook explores a very simple analysis to show the utility of notebooks in general, and some of the features of the JupyterLab environment specifically.\n",
    "\n",
    "This notebook uses data from DR14 of the SDSS survey using the globular cluster Whiting I as a starting point.  See the [finding chart](http://skyserver.sdss.org/dr8/en/tools/chart/navi.asp?ra=30.7367&dec=-3.25319&opt=)."
   ]
  },
  {
   "cell_type": "markdown",
   "metadata": {},
   "source": [
    "## Before running the notebook, get the data"
   ]
  },
  {
   "cell_type": "markdown",
   "metadata": {},
   "source": [
    "### The catalog"
   ]
  },
  {
   "cell_type": "markdown",
   "metadata": {},
   "source": [
    "This catalog was generated using [CasJobs](https://skyserver.sdss.org/CasJobs/SubmitJob.aspx) using the following query\n",
    "```sql\n",
    "SELECT si.ra, si.dec, si.type, si.psfMag_u, si.psfMag_g, si.psfMag_r, si.psfMag_i, si.psfMag_z,\n",
    "  si.psfMagErr_u, si.psfMagErr_g, si.psfMagErr_r, si.psfMagErr_i, si.psfMagErr_z,\n",
    "  si.modelMag_u, si.modelMag_g, si.modelMag_r, si.modelMag_i, si.modelMag_z,\n",
    "  si.modelMagErr_u, si.modelMagErr_g, si.modelMagErr_r, si.modelMagErr_i, si.modelMagErr_z\n",
    "FROM photoprimary si WHERE\n",
    "si.ra between 30.7375-0.1 AND 30.7375+0.1 AND\n",
    "si.dec between -3.2528-0.1 AND -3.2528+0.1\n",
    "```\n",
    "### The image\n",
    "\n",
    "The image in this exercise was identified by using the SDSS SIAP service.  Specifically by looking through the response from [this URL](http://skyserver.sdss.org/dr14/SkyServerWS/SIAP/getSIAP?POS=30.7375,-3.2528&SIZE=0.001&FORMAT=image/fits)"
   ]
  },
  {
   "cell_type": "markdown",
   "metadata": {},
   "source": [
    "## Simple density analysis"
   ]
  },
  {
   "cell_type": "markdown",
   "metadata": {},
   "source": [
    "Initial imports.  The first import will fail, but be caught.  This is intentional to show the extensible environment.  To run the notebook either delete the boto import, or open a terminal and execute the following commands:\n",
    "```\n",
    "$> source /opt/lsst/software/stack/loadLSST.bash\n",
    "$> pip install --user boto\n",
    "```"
   ]
  },
  {
   "cell_type": "code",
   "execution_count": null,
   "metadata": {},
   "outputs": [],
   "source": [
    "try:\n",
    "    import boto # this will fail on systems that don't have boto\n",
    "except ModuleNotFoundError:\n",
    "    print(\"You can install boto by following the steps above.\")\n",
    "    \n",
    "import numpy, os\n",
    "from matplotlib import pylab as plt\n",
    "plt.rcParams['figure.dpi'] = 120\n",
    "from scipy.ndimage.filters import gaussian_filter\n",
    "\n",
    "import astropy.io.fits as fits\n",
    "from astropy.wcs import WCS"
   ]
  },
  {
   "cell_type": "markdown",
   "metadata": {},
   "source": [
    "Set some useful variables"
   ]
  },
  {
   "cell_type": "code",
   "execution_count": null,
   "metadata": {},
   "outputs": [],
   "source": [
    "ra = 30.7375\n",
    "dec = -3.2528\n",
    "radius = 1.2/60"
   ]
  },
  {
   "cell_type": "markdown",
   "metadata": {},
   "source": [
    "Read in the catalog"
   ]
  },
  {
   "cell_type": "code",
   "execution_count": null,
   "metadata": {},
   "outputs": [],
   "source": [
    "cat = numpy.genfromtxt(\"/project/shared/data/rsp_check_data/sdss/cluster.csv\", names=True, dtype=None, delimiter=',')"
   ]
  },
  {
   "cell_type": "markdown",
   "metadata": {},
   "source": [
    "Does the catalog look reasonable?"
   ]
  },
  {
   "cell_type": "code",
   "execution_count": null,
   "metadata": {},
   "outputs": [],
   "source": [
    "def plot(x, y):\n",
    "    plt.scatter(x, y, alpha=0.3, s=10, c='black')\n",
    "    plt.xlabel('RA (deg)')\n",
    "    plt.ylabel('Declination (deg)')\n",
    "    plt.show()\n",
    "\n",
    "plot(cat['ra'], cat['dec'])"
   ]
  },
  {
   "cell_type": "markdown",
   "metadata": {},
   "source": [
    "SDSS gives us a star galaxy separation.  Let's use it!"
   ]
  },
  {
   "cell_type": "code",
   "execution_count": null,
   "metadata": {},
   "outputs": [],
   "source": [
    "stars = cat[numpy.where(cat['type']==6)[0]]\n",
    "galaxies = cat[numpy.where(cat['type']==3)[0]]"
   ]
  },
  {
   "cell_type": "markdown",
   "metadata": {},
   "source": [
    "Stars are clustered as expected"
   ]
  },
  {
   "cell_type": "code",
   "execution_count": null,
   "metadata": {},
   "outputs": [],
   "source": [
    "plot(stars['ra'], stars['dec'])"
   ]
  },
  {
   "cell_type": "markdown",
   "metadata": {},
   "source": [
    "Galaxies, not as much."
   ]
  },
  {
   "cell_type": "code",
   "execution_count": null,
   "metadata": {},
   "outputs": [],
   "source": [
    "plot(galaxies['ra'], galaxies['dec'])"
   ]
  },
  {
   "cell_type": "markdown",
   "metadata": {},
   "source": [
    "Select cluster members spatially."
   ]
  },
  {
   "cell_type": "code",
   "execution_count": null,
   "metadata": {},
   "outputs": [],
   "source": [
    "cluster_stars = stars[numpy.where(numpy.hypot(stars['ra']-ra, stars['dec']-dec) < radius)[0]]"
   ]
  },
  {
   "cell_type": "markdown",
   "metadata": {},
   "source": [
    "Compare spatially selected stars with all stars in a color-magnitude diagram."
   ]
  },
  {
   "cell_type": "code",
   "execution_count": null,
   "metadata": {},
   "outputs": [],
   "source": [
    "plt.scatter(stars['psfMag_r']-stars['psfMag_i'], stars['psfMag_r'], alpha=0.3, s=10, c='black')\n",
    "plt.scatter(cluster_stars['psfMag_r']-cluster_stars['psfMag_i'], cluster_stars['psfMag_r'], c='red', alpha=0.3, s=10)\n",
    "plt.ylim(25, 13)\n",
    "plt.xlim(-1, 3.)\n",
    "plt.xlabel('r-i')\n",
    "plt.ylabel('r')\n",
    "plt.show()"
   ]
  },
  {
   "cell_type": "markdown",
   "metadata": {},
   "source": [
    "Make a reasonable cut in `r-i` color space."
   ]
  },
  {
   "cell_type": "code",
   "execution_count": null,
   "metadata": {},
   "outputs": [],
   "source": [
    "rmi = stars['psfMag_r']-stars['psfMag_i']\n",
    "cluster = stars[numpy.where((rmi>-0.25) & (rmi<0.5))[0]]"
   ]
  },
  {
   "cell_type": "markdown",
   "metadata": {},
   "source": [
    "Now we can plot the color selected cluster members"
   ]
  },
  {
   "cell_type": "code",
   "execution_count": null,
   "metadata": {},
   "outputs": [],
   "source": [
    "plot(cluster['ra'], cluster['dec'])"
   ]
  },
  {
   "cell_type": "markdown",
   "metadata": {},
   "source": [
    "Histogram the star counts and smooth on a reasonable scale."
   ]
  },
  {
   "cell_type": "code",
   "execution_count": null,
   "metadata": {},
   "outputs": [],
   "source": [
    "H, xedges, yedges = plt.histogram2d(cluster['ra'], cluster['dec'], range=[[30.6,30.85], [-3.36, -3.15]], bins=(30,30))\n",
    "levels = (0.1, 0.4, 0.7, 1.0, 1.3, 1.6, 1.8)\n",
    "smoothed_hist = gaussian_filter(H, 3.0) # three bin sigma"
   ]
  },
  {
   "cell_type": "markdown",
   "metadata": {},
   "source": [
    "Compute the extent of the subimage so we can plot the contours."
   ]
  },
  {
   "cell_type": "code",
   "execution_count": null,
   "metadata": {},
   "outputs": [],
   "source": [
    "pixmin = (0, 250)\n",
    "pixmax = (600, 850)\n",
    "im = fits.open('/project/shared/data/rsp_check_data/sdss/frame-r-007778-1-0522.fits')\n",
    "wcs = WCS(im[0].header)\n",
    "extent = wcs.wcs_pix2world([pixmin[::-1], pixmax[::-1]], 0)"
   ]
  },
  {
   "cell_type": "markdown",
   "metadata": {},
   "source": [
    "Plot image and contours.  Note transposed axes."
   ]
  },
  {
   "cell_type": "code",
   "execution_count": null,
   "metadata": {},
   "outputs": [],
   "source": [
    "plt.contour(0.5*(yedges[1:] + yedges[:-1]), 0.5*(xedges[1:] + xedges[:-1]), smoothed_hist, levels)\n",
    "plt.imshow(im[0].data[pixmin[0]:pixmax[0], pixmin[1]:pixmax[1]], vmin=-0.01, vmax=0.2, cmap='gray',\n",
    "           extent=(extent[0][1], extent[1][1], extent[1][0], extent[0][0]))\n",
    "plt.xlabel(\"Declination (deg)\")\n",
    "plt.ylabel(\"RA (deg)\")\n",
    "plt.show()"
   ]
  }
 ],
 "metadata": {
  "kernelspec": {
   "display_name": "LSST",
   "language": "python",
   "name": "lsst"
  },
  "language_info": {
   "codemirror_mode": {
    "name": "ipython",
    "version": 3
   },
   "file_extension": ".py",
   "mimetype": "text/x-python",
   "name": "python",
   "nbconvert_exporter": "python",
   "pygments_lexer": "ipython3",
   "version": "3.8.8"
  }
 },
 "nbformat": 4,
 "nbformat_minor": 4
}
