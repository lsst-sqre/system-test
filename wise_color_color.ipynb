{
 "cells": [
  {
   "cell_type": "markdown",
   "metadata": {},
   "source": [
    "## Catalog access"
   ]
  },
  {
   "cell_type": "markdown",
   "metadata": {},
   "source": [
    "### Create a client"
   ]
  },
  {
   "cell_type": "code",
   "execution_count": null,
   "metadata": {},
   "outputs": [],
   "source": [
    "import pandas\n",
    "\n",
    "try:\n",
    "    from rsp_jupyter_extensions.utilites import get_tap_service, retrieve_query  # JL3\n",
    "except ImportError:\n"
    "    from rubin_jupyter_utils.lab.notebook import get_tap_service, retrieve_query  # JL2\n",
    "\n",
    "pandas.set_option('display.max_rows', 1000)\n",
    "service = get_tap_service()"
   ]
  },
  {
   "cell_type": "markdown",
   "metadata": {},
   "source": [
    "### Finding tables to query"
   ]
  },
  {
   "cell_type": "code",
   "execution_count": null,
   "metadata": {},
   "outputs": [],
   "source": [
    "results = service.search(\"SELECT table_name, schema_name, description FROM TAP_SCHEMA.tables\")\n",
    "results.to_table().show_in_notebook()"
   ]
  },
  {
   "cell_type": "markdown",
   "metadata": {},
   "source": [
    "### Pick a table and look at the schema"
   ]
  },
  {
   "cell_type": "code",
   "execution_count": null,
   "metadata": {},
   "outputs": [],
   "source": [
    "results = service.search(\"SELECT column_name, description, unit FROM TAP_SCHEMA.columns WHERE table_name = 'wise_01.allwise_p3as_mep'\")\n",
    "results.to_table().show_in_notebook()"
   ]
  },
  {
   "cell_type": "markdown",
   "metadata": {},
   "source": [
    "### Do a cone search"
   ]
  },
  {
   "cell_type": "code",
   "execution_count": null,
   "metadata": {},
   "outputs": [],
   "source": [
    "results = service.search(\"SELECT w1mpro_ep, w2mpro_ep, w3mpro_ep FROM wise_01.allwise_p3as_mep WHERE CONTAINS(POINT('ICRS', ra, dec), CIRCLE('ICRS', 192.85, 27.13, .2)) = 1\")\n",
    "results.to_table()[0:50].show_in_notebook()"
   ]
  },
  {
   "cell_type": "code",
   "execution_count": null,
   "metadata": {},
   "outputs": [],
   "source": [
    "len(results)"
   ]
  },
  {
   "cell_type": "markdown",
   "metadata": {},
   "source": [
    "### Plot the result"
   ]
  },
  {
   "cell_type": "code",
   "execution_count": null,
   "metadata": {},
   "outputs": [],
   "source": [
    "from bokeh.plotting import figure, output_file, show\n",
    "from bokeh.models import ColumnDataSource, HoverTool\n",
    "from bokeh.io import output_notebook\n",
    "from bokeh.resources import INLINE\n",
    "try:\n",
    "    from jupyterlabutils import show_with_bokeh_server\n",
    "except ModuleNotFoundError:\n",
    "    from rubin_jupyter_utils.lab import show_with_bokeh_server\n",
    "import pandas\n",
    "import numpy\n",
    "\n",
    "output_notebook(INLINE, hide_banner=True)\n",
    "\n",
    "dataframe = results.to_table().to_pandas()\n",
    "\n",
    "dataframe['w1mw2'] = dataframe['w1mpro_ep'] - dataframe['w2mpro_ep']\n",
    "dataframe['w2mw3'] = dataframe['w2mpro_ep'] - dataframe['w3mpro_ep']\n",
    "null23_idx = pandas.isna(dataframe['w2mw3'])\n",
    "null12_idx = pandas.isna(dataframe['w1mw2'])\n",
    "null_idx = null23_idx | null12_idx\n",
    "\n",
    "datasource = ColumnDataSource(dataframe[numpy.logical_not(null_idx)])\n",
    "no_null_dataframe = dataframe[numpy.logical_not(null_idx)]"
   ]
  },
  {
   "cell_type": "code",
   "execution_count": null,
   "metadata": {},
   "outputs": [],
   "source": [
    "# Make a plot of a certain size\n",
    "p = figure(plot_width=800, plot_height=800)\n",
    "p.yaxis.axis_label = '[3.6] - [4.6] (Profile fit magnitude)'\n",
    "p.xaxis.axis_label = '[4.6] - [12] (Profile fit magnitude)'\n",
    "\n",
    "# Add a circle renderer with a size, color, and alpha.\n",
    "# x and y control which columns to use from the dataframe.\n",
    "p.circle(x='w2mw3', y='w1mw2', source=datasource, size=5, color=\"navy\", alpha=0.1)\n",
    "\n",
    "# show the results\n",
    "show_with_bokeh_server(p)"
   ]
  },
  {
   "cell_type": "code",
   "execution_count": null,
   "metadata": {},
   "outputs": [],
   "source": [
    "# Make a plot of a certain size\n",
    "p = figure(plot_width=800, plot_height=800)\n",
    "p.yaxis.axis_label = '[3.6] - [4.6] (Profile fit magnitude)'\n",
    "p.xaxis.axis_label = '[4.6] - [12] (Profile fit magnitude)'\n",
    "\n",
    "# Bin data and add hover tool\n",
    "r, bins = p.hexbin(no_null_dataframe['w2mw3'], no_null_dataframe['w1mw2'], size=0.03, hover_color='blue', hover_alpha=0.8)\n",
    "\n",
    "p.add_tools(HoverTool(\n",
    "    tooltips=[(\"count\", \"@c\")],\n",
    "    mode=\"mouse\", point_policy=\"follow_mouse\", renderers=[r]\n",
    "))\n",
    "\n",
    "# show the results\n",
    "show_with_bokeh_server(p)"
   ]
  }
 ],
 "metadata": {
  "kernelspec": {
   "display_name": "LSST",
   "language": "python",
   "name": "lsst"
  },
  "language_info": {
   "codemirror_mode": {
    "name": "ipython",
    "version": 3
   },
   "file_extension": ".py",
   "mimetype": "text/x-python",
   "name": "python",
   "nbconvert_exporter": "python",
   "pygments_lexer": "ipython3",
   "version": "3.8.8"
  }
 },
 "nbformat": 4,
 "nbformat_minor": 4
}
