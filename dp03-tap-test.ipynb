{
 "cells": [
  {
   "cell_type": "markdown",
   "id": "3bbab926-c0a0-4ca2-a559-e65da58a2d16",
   "metadata": {
    "tags": []
   },
   "source": [
    "### Preliminaries"
   ]
  },
  {
   "cell_type": "code",
   "execution_count": null,
   "id": "34f02502-ad8f-4028-99e9-1c3ea175c4ec",
   "metadata": {
    "tags": []
   },
   "outputs": [],
   "source": [
    "import matplotlib.pyplot as plt\n",
    "import numpy as np\n",
    "import pandas as pd\n",
    "from lsst.rsp import get_tap_service\n",
    "import os\n",
    "\n",
    "pd.set_option('display.max_rows', 100)\n",
    "\n",
    "service = get_tap_service(\"ssotap\")\n",
    "print(service.baseurl)"
   ]
  },
  {
   "cell_type": "markdown",
   "id": "79e0586d-4fa1-438a-930e-4a7b7d4aeefa",
   "metadata": {},
   "source": [
    "### Cone Search"
   ]
  },
  {
   "cell_type": "code",
   "execution_count": null,
   "id": "e4d3c862-c695-4c59-a4eb-c07e2cf7a36c",
   "metadata": {
    "tags": []
   },
   "outputs": [],
   "source": [
    "df = service.search(\"\"\"\n",
    "    SELECT SSObjectId, ra, decl FROM dp03_catalogs.DiaSource where 1=CONTAINS(POINT('ICRS', ra, decl), CIRCLE('ICRS', 1.0, 0, 0.05))\n",
    "\"\"\").to_table().to_pandas()\n",
    "df"
   ]
  },
  {
   "cell_type": "code",
   "execution_count": null,
   "id": "224b9302-3d8c-4c14-9ab1-37a4bab9fff5",
   "metadata": {
    "tags": []
   },
   "outputs": [],
   "source": [
    "df.plot.scatter('ra','decl')"
   ]
  },
  {
   "cell_type": "markdown",
   "id": "e3b10c9d-c907-4411-8b46-c9291de9ca36",
   "metadata": {},
   "source": [
    "### Polygon"
   ]
  },
  {
   "cell_type": "code",
   "execution_count": null,
   "id": "a30762a7-788b-4846-8019-1d4b53d1a25b",
   "metadata": {
    "tags": []
   },
   "outputs": [],
   "source": [
    "df = service.search(\"\"\"\n",
    "    SELECT SSObjectId, ra, decl FROM dp03_catalogs.DiaSource where 1=CONTAINS(POINT('ICRS', ra, decl), POLYGON('ICRS', 0.95, -.05, 1.05, -.05, 1.0, .05))\n",
    "\"\"\").to_table().to_pandas()\n",
    "df"
   ]
  },
  {
   "cell_type": "code",
   "execution_count": null,
   "id": "2eba8e0a-5255-4cb0-a8be-38e89c3c5506",
   "metadata": {
    "tags": []
   },
   "outputs": [],
   "source": [
    "df.plot.scatter('ra','decl')"
   ]
  },
  {
   "cell_type": "markdown",
   "id": "f2d3ac1a-574c-4bce-81da-e3e98c5df76e",
   "metadata": {},
   "source": [
    "### Time Series Length Distribution"
   ]
  },
  {
   "cell_type": "code",
   "execution_count": null,
   "id": "81d661d7-9207-4595-889e-9a47d17cece3",
   "metadata": {
    "tags": []
   },
   "outputs": [],
   "source": [
    "df = service.search(\"SELECT numObs, LOG(count(*)) FROM dp03_catalogs.SSObject GROUP BY numObs\").to_table().to_pandas()\n",
    "df"
   ]
  },
  {
   "cell_type": "code",
   "execution_count": null,
   "id": "b2e14ab8-30df-42ef-ae9c-b5b308ec5462",
   "metadata": {
    "tags": []
   },
   "outputs": [],
   "source": [
    "df.plot.area('numObs', 'LOG')"
   ]
  },
  {
   "cell_type": "markdown",
   "id": "6d20b806-8afe-4e21-adb5-dfcefd85323b",
   "metadata": {},
   "source": [
    "### Examine the longest time series a bit..."
   ]
  },
  {
   "cell_type": "code",
   "execution_count": null,
   "id": "ea08b267-54b0-4624-8cf9-283570ccad3b",
   "metadata": {
    "tags": []
   },
   "outputs": [],
   "source": [
    "service.search(\"SELECT SSObjectId, numobs FROM dp03_catalogs.SSObject WHERE numobs>14000\").to_table()"
   ]
  },
  {
   "cell_type": "code",
   "execution_count": null,
   "id": "23d22dea-b59c-4d05-a83b-cdc9303ad7fd",
   "metadata": {
    "tags": []
   },
   "outputs": [],
   "source": [
    "df = service.search(\"\"\"\n",
    "    SELECT ra, decl, midPointTai FROM dp03_catalogs.DiaSource WHERE ssObjectId = -735085100561880491\n",
    "\"\"\").to_table().to_pandas()\n",
    "df"
   ]
  },
  {
   "cell_type": "code",
   "execution_count": null,
   "id": "17a1e97a-5940-4770-990a-8bedb73e86f6",
   "metadata": {
    "tags": []
   },
   "outputs": [],
   "source": [
    "df.plot.scatter('ra','decl')"
   ]
  },
  {
   "cell_type": "code",
   "execution_count": null,
   "id": "6f741e12-32cc-4f60-82a6-c87439ba0aab",
   "metadata": {
    "tags": []
   },
   "outputs": [],
   "source": [
    "df.plot.scatter('midPointTai', 'decl')"
   ]
  },
  {
   "cell_type": "code",
   "execution_count": null,
   "id": "53dfb68a-6299-4667-ac74-e772da611a4a",
   "metadata": {
    "tags": []
   },
   "outputs": [],
   "source": [
    "df['midPointTai'].hist(bins=50)"
   ]
  },
  {
   "cell_type": "code",
   "execution_count": null,
   "id": "a9d4b057-c71a-4846-82b5-8148961a8c23",
   "metadata": {},
   "outputs": [],
   "source": []
  }
 ],
 "metadata": {
  "kernelspec": {
   "display_name": "LSST",
   "language": "python",
   "name": "lsst"
  },
  "language_info": {
   "codemirror_mode": {
    "name": "ipython",
    "version": 3
   },
   "file_extension": ".py",
   "mimetype": "text/x-python",
   "name": "python",
   "nbconvert_exporter": "python",
   "pygments_lexer": "ipython3",
   "version": "3.10.10"
  }
 },
 "nbformat": 4,
 "nbformat_minor": 5
}
