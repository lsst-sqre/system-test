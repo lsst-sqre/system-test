{
 "cells": [
  {
   "cell_type": "markdown",
   "id": "749b0ddf",
   "metadata": {},
   "source": [
    "# User Uploaded Tables"
   ]
  },
  {
   "cell_type": "markdown",
   "id": "9da1a210-d858-42fe-8591-570965b8be1a",
   "metadata": {},
   "source": [
    "**Description:** Use the TAP upload functionality for user-supplied tables and join them with DP.02 catalogs."
   ]
  },
  {
   "cell_type": "markdown",
   "id": "5bf722b4-8227-441f-9f3e-0f8140040fc1",
   "metadata": {
    "tags": []
   },
   "source": [
    "### 1.1. Import packages"
   ]
  },
  {
   "cell_type": "code",
   "execution_count": null,
   "id": "4d4078a1-8232-4f11-97ec-2a67ca19308e",
   "metadata": {},
   "outputs": [],
   "source": [
    "import os\n",
    "import getpass\n",
    "import matplotlib.pyplot as plt\n",
    "import numpy as np\n",
    "import pyvo\n",
    "from astropy.table import Table\n",
    "import pandas as pd\n",
    "from lsst.rsp import get_tap_service"
   ]
  },
  {
   "cell_type": "markdown",
   "id": "c217adff-25ed-4fce-95e7-8aa04630f6cc",
   "metadata": {},
   "source": [
    "### 1.2. Define parameters"
   ]
  },
  {
   "cell_type": "markdown",
   "id": "8a4a8b3b-91cf-4729-a707-99b7b11a5b8d",
   "metadata": {},
   "source": [
    "Set a few style parameters for the plots."
   ]
  },
  {
   "cell_type": "code",
   "execution_count": null,
   "id": "c780a382-5c5e-4f20-9ffd-7aa517c37146",
   "metadata": {
    "tags": []
   },
   "outputs": [],
   "source": [
    "plt.style.use('tableau-colorblind10') \n",
    "params = {'axes.labelsize': 12,\n",
    "          'font.size': 12,\n",
    "          'legend.fontsize': 10}\n",
    "plt.rcParams.update(params)"
   ]
  },
  {
   "cell_type": "code",
   "execution_count": null,
   "id": "4b4dac0c-6db0-423e-bffc-b3fd8917d451",
   "metadata": {},
   "outputs": [],
   "source": [
    "plot_filter_colors_white_background = {\n",
    "    'u': '#0c71ff',\n",
    "    'g': '#49be61',\n",
    "    'r': '#c61c00',\n",
    "    'i': '#ffc200',\n",
    "    'z': '#f341a2',\n",
    "    'y': '#5d0000'\n",
    "}\n",
    "\n",
    "plot_symbols = {\n",
    "    'u': 'o',\n",
    "    'g': '^',\n",
    "    'r': 'v',\n",
    "    'i': 's',\n",
    "    'z': '*',\n",
    "    'y': 'p'\n",
    "}"
   ]
  },
  {
   "cell_type": "markdown",
   "id": "d9ab2c64-b43b-4311-88a4-810e5bafb7dc",
   "metadata": {},
   "source": [
    "Define the path to to input files, which are stored in a shared directory in the Notebook Aspect."
   ]
  },
  {
   "cell_type": "markdown",
   "id": "00b268e9-b011-4c57-9604-91e82bca58ce",
   "metadata": {},
   "source": [
    "Start the TAP service and assert that it exists."
   ]
  },
  {
   "cell_type": "code",
   "execution_count": null,
   "id": "b62bc6f9-62ea-46a8-a05d-f6a7efaa855c",
   "metadata": {},
   "outputs": [],
   "source": [
    "rsp_tap = get_tap_service(\"tap\")\n",
    "assert rsp_tap is not None"
   ]
  },
  {
   "cell_type": "markdown",
   "id": "7a956193-0562-47f1-a832-0fb512ec034a",
   "metadata": {},
   "source": [
    "### 1.2. Create upload data (as a string)"
   ]
  },
  {
   "cell_type": "code",
   "execution_count": null,
   "id": "38099f48-300b-473f-bf44-f6b464ce76dc",
   "metadata": {},
   "outputs": [],
   "source": [
    "query = \"\"\"\n",
    "        SELECT TOP 10 * \n",
    "        FROM dp02_dc2_catalogs.DiaSource\n",
    "        \"\"\""
   ]
  },
  {
   "cell_type": "code",
   "execution_count": null,
   "id": "e5d465d1-fbe7-4f4f-a881-1d0f2de5f617",
   "metadata": {},
   "outputs": [],
   "source": [
    "job = rsp_tap.submit_job(query)\n",
    "job.run()"
   ]
  },
  {
   "cell_type": "code",
   "execution_count": null,
   "id": "de7f8fb3-b550-4ada-a897-7fe39a0d166a",
   "metadata": {},
   "outputs": [],
   "source": [
    "job.wait(phases=['COMPLETED', 'ERROR'])\n",
    "print('Job phase is', job.phase)"
   ]
  },
  {
   "cell_type": "code",
   "execution_count": null,
   "id": "dffeca29-9f13-4e16-8a7f-b89a8439b50c",
   "metadata": {},
   "outputs": [],
   "source": [
    "results = job.fetch_result().to_table()"
   ]
  },
  {
   "cell_type": "code",
   "execution_count": null,
   "id": "f2faa2b9-9726-4978-9b29-893cf54faaa0",
   "metadata": {},
   "outputs": [],
   "source": [
    "print(results)"
   ]
  },
  {
   "cell_type": "code",
   "execution_count": null,
   "id": "999c1da9-ec4b-4c65-b6fd-04f810967249",
   "metadata": {},
   "outputs": [],
   "source": [
    "results = job.fetch_result().to_table()\n",
    "\n",
    "# coords\n",
    "coords_string = \"diaSourceId\\tcoord_ra\\tcoord_dec\\tmidPointTai\\n\" + \"\\n\".join(\n",
    "    f\"{row['diaSourceId']}\\t{row['coord_ra']}\\t{row['coord_dec']}\\t{row['midPointTai']}\" \n",
    "    for _, row in enumerate(results)\n",
    ")"
   ]
  },
  {
   "cell_type": "markdown",
   "id": "14753d94-15ed-4610-af5f-0b8570602a92",
   "metadata": {},
   "source": [
    "## 2. Demonstrate simple query that searches the uploaded table"
   ]
  },
  {
   "cell_type": "code",
   "execution_count": null,
   "id": "5201cc82-c7d2-4ef9-8db1-39a6aaf1443b",
   "metadata": {},
   "outputs": [],
   "source": [
    "ut1 = Table.read(coords_string, format='ascii.basic')"
   ]
  },
  {
   "cell_type": "code",
   "execution_count": null,
   "id": "ca86b09a-4321-4794-9eac-42f9f254f26c",
   "metadata": {},
   "outputs": [],
   "source": [
    "query = \"\"\"\n",
    "        SELECT * FROM TAP_UPLOAD.ut1 AS ut1\n",
    "        WHERE ut1.coord_ra > 10\n",
    "        \"\"\""
   ]
  },
  {
   "cell_type": "code",
   "execution_count": null,
   "id": "09a197a1-b81f-4959-8b16-9b953a0e54cb",
   "metadata": {},
   "outputs": [],
   "source": [
    "job = rsp_tap.submit_job(query, uploads={\"ut1\": ut1})\n",
    "job.run()"
   ]
  },
  {
   "cell_type": "code",
   "execution_count": null,
   "id": "65e6d72a-9b25-4f2d-9dba-90088f10d860",
   "metadata": {},
   "outputs": [],
   "source": [
    "job.wait(phases=['COMPLETED', 'ERROR'])\n",
    "print('Job phase is', job.phase)"
   ]
  },
  {
   "cell_type": "code",
   "execution_count": null,
   "id": "2fa3fe26-7cf7-46cc-8a0b-7b384b93e1f5",
   "metadata": {},
   "outputs": [],
   "source": [
    "results = job.fetch_result().to_table()\n",
    "results"
   ]
  },
  {
   "cell_type": "markdown",
   "id": "a1af99ae-b3f1-4c5a-9af5-96c744d5dab1",
   "metadata": {},
   "source": [
    "## 3. Spatial and temporal cross-match to diaSources"
   ]
  },
  {
   "cell_type": "code",
   "execution_count": null,
   "id": "220c90e6-5399-46c4-a1dc-49219c7f46fd",
   "metadata": {},
   "outputs": [],
   "source": [
    "ut1 = Table.read(coords_string, format='ascii.basic')"
   ]
  },
  {
   "cell_type": "code",
   "execution_count": null,
   "id": "184ee9e9-c038-4aad-bbe1-87367794e63d",
   "metadata": {},
   "outputs": [],
   "source": [
    "query = \"\"\"\n",
    "        SELECT dias.coord_ra, dias.coord_dec, dias.midPointTai, dias.diaSourceId,\n",
    "        ut1.coord_ra AS ut1_ra, ut1.coord_dec AS ut1_dec, ut1.midPointTai AS ut1_mjd, ut1.diaSourceId AS ut1_id\n",
    "        FROM dp02_dc2_catalogs.DiaSource AS dias, TAP_UPLOAD.ut1 AS ut1\n",
    "        WHERE CONTAINS(POINT('ICRS', dias.coord_ra, dias.coord_dec),\n",
    "        CIRCLE('ICRS', ut1.coord_ra, ut1.coord_dec, 0.00278))=1\n",
    "        AND ABS(dias.midPointTai - ut1.midPointTai) < 0.5\n",
    "        ORDER BY dias.diaSourceId\n",
    "        \"\"\""
   ]
  },
  {
   "cell_type": "markdown",
   "id": "46e8419f-ca60-4fc4-abf0-fa255f6d13ad",
   "metadata": {},
   "source": [
    "Create the job by submitting the query and then run it asynchronously."
   ]
  },
  {
   "cell_type": "code",
   "execution_count": null,
   "id": "12d0080b-13f2-4a50-8b0e-126aa8b02faa",
   "metadata": {},
   "outputs": [],
   "source": [
    "job = rsp_tap.submit_job(query, uploads={\"ut1\": ut1})\n",
    "job.run()"
   ]
  },
  {
   "cell_type": "markdown",
   "id": "c3e7aaf0-2f7b-4185-9d1f-f5eb40ae06d3",
   "metadata": {},
   "source": [
    "Check that the job is completed."
   ]
  },
  {
   "cell_type": "code",
   "execution_count": null,
   "id": "801f6215-f541-408e-82c1-e147267c8765",
   "metadata": {},
   "outputs": [],
   "source": [
    "job.wait(phases=['COMPLETED', 'ERROR'])\n",
    "print('Job phase is', job.phase)"
   ]
  },
  {
   "cell_type": "markdown",
   "id": "b5383c21-d6c5-43b9-b189-62e429d11298",
   "metadata": {},
   "source": [
    "Retrieve the results and display them."
   ]
  },
  {
   "cell_type": "code",
   "execution_count": null,
   "id": "4164a28a-0786-4f0d-ada6-c7a5a371477e",
   "metadata": {},
   "outputs": [],
   "source": [
    "results = job.fetch_result().to_table()\n",
    "results"
   ]
  },
  {
   "cell_type": "markdown",
   "id": "94714005-d795-48ea-b80a-2885c09b21e3",
   "metadata": {},
   "source": [
    "## 3. Object identifier cross-match to diaSources\n",
    "\n",
    "This section demonstrates how to upload a user-supplied table and join it with a DP1 table."
   ]
  },
  {
   "cell_type": "code",
   "execution_count": null,
   "id": "b84ab637-7dba-4d13-b1af-c211a6314558",
   "metadata": {},
   "outputs": [],
   "source": [
    "ut2 = Table.read(coords_string, format='ascii.basic')"
   ]
  },
  {
   "cell_type": "code",
   "execution_count": null,
   "id": "e0c62f66-0498-438c-b436-12ba79000d34",
   "metadata": {},
   "outputs": [],
   "source": [
    "query = \"\"\"\n",
    "    SELECT *\n",
    "    FROM dp02_dc2_catalogs.DiaSource AS dias, TAP_UPLOAD.ut2 AS ut2\n",
    "    WHERE ut2.diaSourceId = dias.diaSourceId   \n",
    "    \"\"\""
   ]
  },
  {
   "cell_type": "code",
   "execution_count": null,
   "id": "22229072-b16b-4ade-9f8c-e7489c52ebdd",
   "metadata": {},
   "outputs": [],
   "source": [
    "job = rsp_tap.submit_job(query, uploads={\"ut2\": ut2})\n",
    "job.run()\n",
    "job.wait(phases=['COMPLETED', 'ERROR'])\n",
    "print('Job phase is', job.phase)"
   ]
  },
  {
   "cell_type": "code",
   "execution_count": null,
   "id": "5024461b-4a4d-4961-b893-4654e7cf679c",
   "metadata": {},
   "outputs": [],
   "source": [
    "results = job.fetch_result().to_table()\n",
    "results"
   ]
  },
  {
   "cell_type": "markdown",
   "id": "8b2af35e-2fb6-403e-a9f0-2e607f7e551d",
   "metadata": {},
   "source": [
    "Print the unique `ssObjectId` and how many detections each had."
   ]
  },
  {
   "cell_type": "code",
   "execution_count": null,
   "id": "b3bf5e0f-8269-426e-a38e-d80106b279ed",
   "metadata": {},
   "outputs": [],
   "source": [
    "uniqueIds, counts = np.unique(results['diaSourceId'], return_counts=True)\n",
    "for uniqueId, count in zip(uniqueIds, counts):\n",
    "    print(\"diaSourceId:\", uniqueId, \"Number of detections:\", count)"
   ]
  },
  {
   "cell_type": "markdown",
   "id": "0d66aa55-aca3-4703-a6a1-376b9fdb5da8",
   "metadata": {},
   "source": [
    "### 3.1. Plot the sky distribution of LSST detections\n",
    "\n",
    "Create a plot showing sky distribution of the detections of these two unique objects over 10 years."
   ]
  },
  {
   "cell_type": "code",
   "execution_count": null,
   "id": "4b6651e9-4f82-47d7-80a6-a863a9702fd1",
   "metadata": {},
   "outputs": [],
   "source": [
    "fig = plt.figure(figsize=(6, 4))\n",
    "for uniqueId in uniqueIds:\n",
    "    tx = results['diaSourceId'] == uniqueId\n",
    "    plt.plot(results['coord_ra'][tx], results['coord_dec'][tx],\n",
    "             'o', ms=5, alpha=0.3, mew=0, label=str(uniqueId))\n",
    "plt.xlabel('Right Ascension [deg]')\n",
    "plt.ylabel('Declination [deg]')\n",
    "plt.title('LSST detections of two moving objects')\n",
    "plt.legend(loc='lower left')\n",
    "plt.show()"
   ]
  },
  {
   "cell_type": "markdown",
   "id": "d1c27c6b-f22e-4993-93c4-10413484cebe",
   "metadata": {},
   "source": [
    "> Figure 2: Above, the coordinates of the LSST difference-image detections from the `diaSource` catalog for the two moving objects listed in the user-uploaded table.\n",
    "\n"
   ]
  }
 ],
 "metadata": {
  "kernelspec": {
   "display_name": "LSST",
   "language": "python",
   "name": "lsst"
  },
  "language_info": {
   "codemirror_mode": {
    "name": "ipython",
    "version": 3
   },
   "file_extension": ".py",
   "mimetype": "text/x-python",
   "name": "python",
   "nbconvert_exporter": "python",
   "pygments_lexer": "ipython3",
   "version": "3.12.10"
  },
  "toc-autonumbering": false
 },
 "nbformat": 4,
 "nbformat_minor": 5
}
