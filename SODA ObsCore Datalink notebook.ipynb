{
 "cells": [
  {
   "cell_type": "markdown",
   "id": "aab07aff-de66-4389-8046-927f7e59dc92",
   "metadata": {},
   "source": [
    "### SODA and Datalink System Test Notebook\n",
    "\n",
    "This notebook does some basic queries against the ObsCore table in the TAP service, then uses the datalink service to load the data for the full image, as well as the information about the SODA cutout service to get a specified cutout of the original image.  Both of these images are loaded in this notebook so they can be looked at side-by-side to ensure one is a cutout of the other."
   ]
  },
  {
   "cell_type": "markdown",
   "id": "9bcb2399-7e0e-44ab-814b-d3b38e4b6b0c",
   "metadata": {},
   "source": [
    "Import required libraries, get a TAP service search object, and set up the notebook to display images."
   ]
  },
  {
   "cell_type": "code",
   "execution_count": null,
   "id": "457e0bf5-854b-4b75-a9bf-163ca36e43a8",
   "metadata": {},
   "outputs": [],
   "source": [
    "import random\n",
    "\n",
    "from lsst.rsp import get_tap_service\n",
    "from pyvo.dal.adhoc import DatalinkResults, SodaQuery\n",
    "from astropy.io import fits\n",
    "from astropy.utils.data import download_file\n",
    "from lsst.afw.image import ImageF\n",
    "\n",
    "import matplotlib.pyplot as plt\n",
    "import lsst.afw.display as afwDisplay\n",
    "import lsst.afw.image as afwImage\n",
    "from astropy.visualization import simple_norm, imshow_norm\n",
    "from astropy.visualization import ImageNormalize,  ZScaleInterval\n",
    "from astropy.visualization.stretch import SinhStretch, LinearStretch, SqrtStretch\n",
    "\n",
    "afwDisplay.setDefaultBackend('matplotlib')\n",
    "service = get_tap_service()"
   ]
  },
  {
   "cell_type": "markdown",
   "id": "6e7b717d-0ae1-40fe-99f5-9d3fc25e67ef",
   "metadata": {},
   "source": [
    "If you already know the butler ID, here is how  you can write a query to query against a butler UUID instead of just a random image.\n",
    "\n",
    "A couple of UUIDs have been provided as an example.\n",
    "\n",
    "Note: not all rows in the obscore table can have a cutout taken of them.  They have to be the right type of image as well, such as a deep coadd."
   ]
  },
  {
   "cell_type": "code",
   "execution_count": null,
   "id": "176195e5-b844-4f05-98c2-7b50f05493e1",
   "metadata": {},
   "outputs": [],
   "source": [
    "# Return the first calexp found in the ObsCore table that looks like the ID we have \n",
    "#calexp_id = \"7fbea78d-4228-4b6a-9386-229e292e0f69\"\n",
    "calexp_id = \"7cfcde02-ff73-4eeb-a765-67d04b241667\"\n",
    "\n",
    "query = f\"\"\"\n",
    "SELECT * FROM ivoa.ObsCore WHERE access_url like '%{calexp_id}' \n",
    "\"\"\"\n",
    "print(query)\n"
   ]
  },
  {
   "cell_type": "markdown",
   "id": "308c94c4-b6f2-45b6-932f-1f5077747f60",
   "metadata": {},
   "source": [
    "Here we use a query to return 100 random rows from the Obscore table that should be able to get cutouts for each of the images.  Don't run this cell if you are trying to use just one UUID, as it will overwrite the query from the above cell."
   ]
  },
  {
   "cell_type": "code",
   "execution_count": null,
   "id": "69b9d35f-a8b4-40c6-a3be-8dd1c9a190a6",
   "metadata": {},
   "outputs": [],
   "source": [
    "# Let's pick one at random\n",
    "query = \"\"\"\n",
    "SELECT * FROM ivoa.ObsCore where dataproduct_subtype = 'lsst.deepCoadd_calexp' LIMIT 100\n",
    "\"\"\""
   ]
  },
  {
   "cell_type": "markdown",
   "id": "645c1d75-0c1f-4567-a1e4-0c55f11d8a81",
   "metadata": {},
   "source": [
    "Run the query against the TAP service to get the resulting rows:"
   ]
  },
  {
   "cell_type": "code",
   "execution_count": null,
   "id": "f5a76bf7-87d6-41c7-aba5-c3a2ecc8a5a3",
   "metadata": {},
   "outputs": [],
   "source": [
    "# Or let's retrieve the image with a nice galaxy cluster above\n",
    "results = service.search(query)"
   ]
  },
  {
   "cell_type": "markdown",
   "id": "aaf91596-91b0-4282-96c0-61b479034724",
   "metadata": {},
   "source": [
    "Let's show all the resulting rows from the query so you can see the object ID, dataproduct_subtype, ra, dec, and other useful information in the ObsCore table"
   ]
  },
  {
   "cell_type": "code",
   "execution_count": null,
   "id": "b8e6ff7e-173f-4a73-a954-c03743c27dc5",
   "metadata": {},
   "outputs": [],
   "source": [
    "results.to_table()"
   ]
  },
  {
   "cell_type": "markdown",
   "id": "b6b1b14d-8da0-4ee2-94d3-23729bbbda33",
   "metadata": {},
   "source": [
    "Pick a random row out of the rows that were returned, and get the URL to the datalink service referring to this row."
   ]
  },
  {
   "cell_type": "code",
   "execution_count": null,
   "id": "1a1c6745-fa2b-4f2a-a9b8-b607e06785b5",
   "metadata": {
    "tags": []
   },
   "outputs": [],
   "source": [
    "# Extract the access URL from the result in the first row\n",
    "result = random.choice(results)\n",
    "f\"Datalink link service url: {result.getdataurl()}\""
   ]
  },
  {
   "cell_type": "markdown",
   "id": "7bfad129-8e3f-410f-9f35-980973f1b709",
   "metadata": {},
   "source": [
    "From the datalink service URL, we can use the DatalinkResults class to load the XML document from the datalink service URL and show it in a table.  This will show all the related datalinks for that particular row.  In these cases, there should be a raw image URL, as well as a reference to the cutout service."
   ]
  },
  {
   "cell_type": "code",
   "execution_count": null,
   "id": "e3360ce7-0c25-414e-9615-4f414efecf13",
   "metadata": {},
   "outputs": [],
   "source": [
    "dl_results = DatalinkResults.from_result_url(result.getdataurl(),session=service._session)\n",
    "dl_results.to_table().show_in_notebook()"
   ]
  },
  {
   "cell_type": "markdown",
   "id": "d94a3e91-3603-4309-9554-2d20c26e620b",
   "metadata": {},
   "source": [
    "First, let's look at the first row in the datalinks result: the raw image URL.  This is a google URL to the full image."
   ]
  },
  {
   "cell_type": "code",
   "execution_count": null,
   "id": "6d7ebe6f-f9bc-42f9-a6ce-9b0555a5ec43",
   "metadata": {},
   "outputs": [],
   "source": [
    "# Full image of calexp - not a cutout\n",
    "image_url = dl_results.getrecord(0).get('access_url')\n",
    "image_url"
   ]
  },
  {
   "cell_type": "markdown",
   "id": "b2145a08-4ca0-4081-9f98-cde9998c1a76",
   "metadata": {},
   "source": [
    "Let's download the full image now, which will be stored in filename."
   ]
  },
  {
   "cell_type": "code",
   "execution_count": null,
   "id": "f6fe5d22-49f1-4d9f-b810-6ee91bf3cba0",
   "metadata": {},
   "outputs": [],
   "source": [
    "# Now let's download the image \n",
    "filename = download_file(image_url)\n",
    "print(filename)"
   ]
  },
  {
   "cell_type": "markdown",
   "id": "43fe272e-15a6-465a-a12f-d402ffc8b272",
   "metadata": {},
   "source": [
    "Now let's download the fits headers for this URL..."
   ]
  },
  {
   "cell_type": "code",
   "execution_count": null,
   "id": "b42468cc-ed98-4d5e-87f0-be24cc536ff2",
   "metadata": {},
   "outputs": [],
   "source": [
    "hdulist = fits.open(image_url)\n",
    "\n",
    "for hdu in hdulist:\n",
    "    print(hdu.name)"
   ]
  },
  {
   "cell_type": "markdown",
   "id": "d812d79d-13cd-4f84-bc44-177c9cc38d19",
   "metadata": {},
   "source": [
    "Now let's plot the image using matplotlib..."
   ]
  },
  {
   "cell_type": "code",
   "execution_count": null,
   "id": "af0289b4-b2d1-4da9-9f32-649a80c894ef",
   "metadata": {},
   "outputs": [],
   "source": [
    "# Let's plot the image and see what it looks like...\n",
    "image = hdulist[1].data\n",
    "\n",
    "fig = plt.figure()\n",
    "ax = fig.add_subplot(1, 1, 1)\n",
    "im = imshow_norm(image, ax, origin='lower', interval=ZScaleInterval(), stretch=SqrtStretch(), cmap='gray')\n",
    "fig.colorbar(im[0])"
   ]
  },
  {
   "cell_type": "markdown",
   "id": "c5700e3f-010e-4e7d-86f1-db613f553650",
   "metadata": {},
   "source": [
    "Now let's create a SODA request based on that datalink result.  We are using the \"cutout-sync\" service, which is the SODA service.\n",
    "\n",
    "We put in the center of the image as the center of the circle, and a smaller radius to make a circle cutout.  Even though this doesn't end up in a circle shape, the resulting image has the whole circle centered at the center of the image."
   ]
  },
  {
   "cell_type": "code",
   "execution_count": null,
   "id": "95470d07-f9b6-4b4b-a5ee-120e53d22d28",
   "metadata": {},
   "outputs": [],
   "source": [
    "sq = SodaQuery.from_resource(dl_results, dl_results.get_adhocservice_by_id(\"cutout-sync\"), \n",
    "                             session=service._session)\n",
    "radius = 0.05\n",
    "sq.circle = (result[\"s_ra\"], result[\"s_dec\"], radius)\n",
    "sq"
   ]
  },
  {
   "cell_type": "markdown",
   "id": "822ef212-2c81-433d-aaff-2696cf443292",
   "metadata": {},
   "source": [
    "This bit makes a filename to download into, and then executes the SODA request, reading all the resulting bytes and writing them into the filename we just created."
   ]
  },
  {
   "cell_type": "code",
   "execution_count": null,
   "id": "8fd377e7-3e8e-421a-b77c-8b16b628f341",
   "metadata": {},
   "outputs": [],
   "source": [
    "# Download the cutout\n",
    "sodaPoly = os.path.join(os.getenv('HOME'), 'DATA/soda-polygon.fits')\n",
    "with open(sodaPoly, 'bw') as f:\n",
    "    f.write(sq.execute_stream().read())"
   ]
  },
  {
   "cell_type": "markdown",
   "id": "c04b2e2a-dd4b-48ca-9268-ce59d0316f24",
   "metadata": {},
   "source": [
    "This takes the cutout image we downloaded and displays it.  You can relate it to the image above to make sure it is indeed a cutout of the larger image."
   ]
  },
  {
   "cell_type": "code",
   "execution_count": null,
   "id": "0f029e9f-2128-4675-8ff1-e72f3ae47d89",
   "metadata": {},
   "outputs": [],
   "source": [
    "afw_display = afwDisplay.Display()\n",
    "afw_display.scale('asinh', 'zscale')\n",
    "afw_display.mtv(ImageF(sodaPoly))"
   ]
  }
 ],
 "metadata": {
  "kernelspec": {
   "display_name": "LSST",
   "language": "python",
   "name": "lsst"
  },
  "language_info": {
   "codemirror_mode": {
    "name": "ipython",
    "version": 3
   },
   "file_extension": ".py",
   "mimetype": "text/x-python",
   "name": "python",
   "nbconvert_exporter": "python",
   "pygments_lexer": "ipython3",
   "version": "3.10.5"
  }
 },
 "nbformat": 4,
 "nbformat_minor": 5
}
