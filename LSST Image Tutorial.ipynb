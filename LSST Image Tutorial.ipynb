{
 "cells": [
  {
   "cell_type": "markdown",
   "id": "59b71cc5-71e8-4fb9-864e-92e82021dfca",
   "metadata": {},
   "source": [
    "# LSST Image Service Tutorial\n",
    "\n",
    "This notebook provides a simple tutorial where you will inspect the observations table,\n",
    "and work with fits images of observations you select.\n",
    "\n",
    "## 1. Create TAP client\n",
    "\n",
    "We will use the TAP service to access the ivoa.ObsCore table, which contains observation\n",
    "data."
   ]
  },
  {
   "cell_type": "code",
   "execution_count": null,
   "id": "192f5b96-2e04-431e-8022-6870726d5e5a",
   "metadata": {},
   "outputs": [],
   "source": [
    "import lsst.afw.display\n",
    "import lsst.afw.image\n",
    "import lsst.rsp\n",
    "from pyvo.dal.adhoc import DatalinkResults, SodaQuery\n",
    "\n",
    "lsst.afw.display.setDefaultBackend('matplotlib')\n",
    "service = lsst.rsp.get_tap_service()"
   ]
  },
  {
   "cell_type": "code",
   "execution_count": null,
   "id": "f11a4be8-d08f-4842-8a91-11f78fb0091b",
   "metadata": {},
   "outputs": [],
   "source": [
    "# This cell is a hack until we get the following PR in:\n",
    "# https://github.com/lsst-sqre/lsst-rsp/pull/11\n",
    "service._session.add_security_method_for_url(\"https://data-int.lsst.cloud/api/datalink\", \"lsst-token\")\n",
    "service._session.add_security_method_for_url(\"https://data-int.lsst.cloud/api/cutout\", \"lsst-token\")"
   ]
  },
  {
   "cell_type": "markdown",
   "id": "0828ebb5-c678-4a14-b7a7-8abaeace57ac",
   "metadata": {},
   "source": [
    "## 2. Query the ObsCore table for an observation\n",
    "\n",
    "Execute a SQL statement against the ObsCore table, where you can limit the observations by time,\n",
    "type, and any other SQL features.\n",
    "\n",
    "We will display in a table the rows returned, but for the rest of this notebook, we will only\n",
    "work with the first row."
   ]
  },
  {
   "cell_type": "code",
   "execution_count": null,
   "id": "870a777a-cd8c-4a34-a6e4-cf4320a11d7b",
   "metadata": {},
   "outputs": [],
   "source": [
    "results = service.search(\"SELECT * FROM ivoa.ObsCore WHERE dataproduct_subtype='lsst.calexp' LIMIT 1\")\n",
    "r = results[0]\n",
    "results.to_table().show_in_notebook()"
   ]
  },
  {
   "cell_type": "markdown",
   "id": "3cc93340-fdf6-4aeb-8b13-a4db913bb250",
   "metadata": {},
   "source": [
    "## 3. Access the Datalink links service\n",
    "\n",
    "The Datalink links service, which is referred to in the access_url column in the table above,\n",
    "provides all sorts of interesting information about a particular observation."
   ]
  },
  {
   "cell_type": "code",
   "execution_count": null,
   "id": "19bb7a84-c6b6-4e9c-a8ba-446d96ec14c5",
   "metadata": {},
   "outputs": [],
   "source": [
    "print(f\"Datalink link service url: {r.getdataurl()}\")\n",
    "dr = DatalinkResults.from_result_url(r.getdataurl(), session=service._session)\n",
    "dr.to_table().show_in_notebook()"
   ]
  },
  {
   "cell_type": "markdown",
   "id": "3b143b1f-f951-4e95-9318-c50235669461",
   "metadata": {},
   "source": [
    "## 4. Use SODA to create a circle cutout\n",
    "\n",
    "Since the full observation is very large, you can request a cutout of different shapes around the object\n",
    "you are looking at.\n",
    "\n",
    "The first line sets up a request to the SODA service.\n",
    "The second line sets up the circle shape, providing RA, DEC, and a radius.\n",
    "The last lines read the file from the network and write it to a local fits file."
   ]
  },
  {
   "cell_type": "code",
   "execution_count": null,
   "id": "ade1f356-8d93-45fb-889f-e87f00264bd3",
   "metadata": {},
   "outputs": [],
   "source": [
    "sq = SodaQuery.from_resource(dr, dr.get_adhocservice_by_id(\"cutout-sync\"), session=service._session)\n",
    "sq.circle = (r[\"s_ra\"], r[\"s_dec\"], 0.09)\n",
    "\n",
    "with open('circle-cutout.fits', 'bw') as f:\n",
    "    f.write(sq.execute_stream().read())"
   ]
  },
  {
   "cell_type": "markdown",
   "id": "04529b47-f31e-4480-89af-99782510f4a3",
   "metadata": {},
   "source": [
    "## 5. Display the cutout"
   ]
  },
  {
   "cell_type": "code",
   "execution_count": null,
   "id": "0227da87-f749-47f7-a68b-abbba8809c3f",
   "metadata": {},
   "outputs": [],
   "source": [
    "i = lsst.afw.image.ImageF('circle-cutout.fits')     #read FITS file into afw image object\n",
    "afw_display = lsst.afw.display.Display()      #get an alias to the lsst.afw.display.Display() method\n",
    "afw_display.scale('asinh', 'zscale')    #set the image stretch algorithm and range\n",
    "afw_display.mtv(i)                     #load the image into the display"
   ]
  }
 ],
 "metadata": {
  "kernelspec": {
   "display_name": "LSST",
   "language": "python",
   "name": "lsst"
  },
  "language_info": {
   "codemirror_mode": {
    "name": "ipython",
    "version": 3
   },
   "file_extension": ".py",
   "mimetype": "text/x-python",
   "name": "python",
   "nbconvert_exporter": "python",
   "pygments_lexer": "ipython3",
   "version": "3.10.4"
  }
 },
 "nbformat": 4,
 "nbformat_minor": 5
}
