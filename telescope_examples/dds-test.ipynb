{
 "cells": [
  {
   "cell_type": "code",
   "execution_count": null,
   "id": "7077b959-7e24-4249-9229-6680d864ecc3",
   "metadata": {},
   "outputs": [],
   "source": [
    "# NOTE: The code location is correctly for summit and NTS. This will not work on TTS.\n",
    "ospl_home = \"/scratch/opt/OpenSpliceDDS/V6.10.4/HDE/x86_64.linux\"\n",
    "# TTS requires this path\n",
    "# ospl_home = \"/opt/OpenSpliceDDS/V6.10.4/HDE/x86_64.linux\""
   ]
  },
  {
   "cell_type": "code",
   "execution_count": null,
   "id": "b49742a0-c73c-4ee5-b911-653223dd90fb",
   "metadata": {},
   "outputs": [],
   "source": [
    "# Start up OSPL daemon\n",
    "! export OSPL_HOME=${ospl_home}\n",
    "! source $OSPL_HOME/release.com\n",
    "! export OSPL_URI=$(python -c \"from lsst.ts import ddsconfig; print( (ddsconfig.get_config_dir() / 'ospl-shmem.xml').as_uri())\")\n",
    "! ospl start"
   ]
  },
  {
   "cell_type": "code",
   "execution_count": null,
   "id": "6543da5d-aacb-4b49-8e4b-880390b1f802",
   "metadata": {},
   "outputs": [],
   "source": [
    "import asyncio\n",
    "import logging\n",
    "import sys\n",
    "\n",
    "from lsst.ts import salobj"
   ]
  },
  {
   "cell_type": "code",
   "execution_count": null,
   "id": "4220c614-c33a-43c9-8d80-1bd06d2e6eef",
   "metadata": {},
   "outputs": [],
   "source": [
    "d = salobj.Domain()\n",
    "await asyncio.sleep(10)"
   ]
  },
  {
   "cell_type": "code",
   "execution_count": null,
   "id": "7f709a29-314f-46ec-ad08-d17699b7bf5b",
   "metadata": {},
   "outputs": [],
   "source": [
    "Test42 = salobj.Remote(d, \"Test\", index=42)\n",
    "await Test42.start_task"
   ]
  },
  {
   "cell_type": "code",
   "execution_count": null,
   "id": "871475d7-1534-406b-807a-7de32168c9e3",
   "metadata": {},
   "outputs": [],
   "source": [
    "topic = await Test42.evt_heartbeat.next(flush=False, timeout=30)\n",
    "print(topic)"
   ]
  },
  {
   "cell_type": "code",
   "execution_count": null,
   "id": "af1d5cc4-ba4d-4338-8e7e-7a0316dab6e7",
   "metadata": {},
   "outputs": [],
   "source": [
    "# The following assumes the component is in STANDBY state.\n",
    "await salobj.set_summary_state(Test42, salobj.State.ENABLED)"
   ]
  },
  {
   "cell_type": "code",
   "execution_count": null,
   "id": "5ed0d5a4-05b7-424d-ad50-2a742e97bec6",
   "metadata": {},
   "outputs": [],
   "source": [
    "# Return CSC to STANDBY\n",
    "await salobj.set_summary_state(Test42, salobj.State.STANDBY)"
   ]
  },
  {
   "cell_type": "code",
   "execution_count": null,
   "id": "f1f229cb-5472-4566-a8d5-3340c02cc539",
   "metadata": {},
   "outputs": [],
   "source": [
    "! ospl stop"
   ]
  }
 ],
 "metadata": {
  "kernelspec": {
   "display_name": "LSST",
   "language": "python",
   "name": "lsst"
  },
  "language_info": {
   "codemirror_mode": {
    "name": "ipython",
    "version": 3
   },
   "file_extension": ".py",
   "mimetype": "text/x-python",
   "name": "python",
   "nbconvert_exporter": "python",
   "pygments_lexer": "ipython3",
   "version": "3.8.8"
  }
 },
 "nbformat": 4,
 "nbformat_minor": 5
}
