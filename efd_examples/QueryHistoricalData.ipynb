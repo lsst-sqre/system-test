{
 "cells": [
  {
   "cell_type": "markdown",
   "metadata": {},
   "source": [
    "## Querying historical MTHexapod data"
   ]
  },
  {
   "cell_type": "code",
   "execution_count": null,
   "metadata": {
    "tags": []
   },
   "outputs": [],
   "source": [
    "import pandas as pd\n",
    "from string import Template\n",
    "from lsst_efd_client import EfdClient"
   ]
  },
  {
   "cell_type": "markdown",
   "metadata": {
    "tags": []
   },
   "source": [
    "## July 2022\n",
    "\n",
    "USDF has a database with the EFD historical data until August 2022. So you can query July 2022 data using:"
   ]
  },
  {
   "cell_type": "code",
   "execution_count": null,
   "metadata": {
    "tags": []
   },
   "outputs": [],
   "source": [
    "client = EfdClient(\"usdf_efd\", db_name=\"efd-s2022-08-10\")"
   ]
  },
  {
   "cell_type": "code",
   "execution_count": null,
   "metadata": {
    "tags": []
   },
   "outputs": [],
   "source": [
    "# Query MTHexapod heartbeats\n",
    "\n",
    "start = '2022-07-01'\n",
    "end = '2022-07-31'\n",
    "query = f'''SELECT count(\"heartbeat\") AS \"count_heartbeat\" FROM \"lsst.sal.MTHexapod.logevent_heartbeat\" WHERE time > '{start}' AND time < '{end}' GROUP BY time(1h) '''\n",
    "heartbeats = await client.influx_client.query(query)\n"
   ]
  },
  {
   "cell_type": "code",
   "execution_count": null,
   "metadata": {
    "tags": []
   },
   "outputs": [],
   "source": [
    "heartbeats.plot(y=\"count_heartbeat\")"
   ]
  },
  {
   "cell_type": "code",
   "execution_count": null,
   "metadata": {
    "tags": []
   },
   "outputs": [],
   "source": [
    "# Query MTHexapod actuators data (salIndex=1 means means Camera Hexapod)\n",
    "\n",
    "start = '2022-07-01'\n",
    "end = '2022-07-31'\n",
    "query = f'''SELECT \"calibrated0\", \"calibrated1\", \"calibrated2\", \"calibrated3\", \"calibrated4\", \"calibrated5\" FROM  \"lsst.sal.MTHexapod.actuators\" WHERE salIndex=1 AND time > '{start}' AND time < '{end}' '''\n",
    "actuators = await client.influx_client.query(query)\n"
   ]
  },
  {
   "cell_type": "code",
   "execution_count": null,
   "metadata": {
    "tags": []
   },
   "outputs": [],
   "source": [
    "actuators.plot(y=\"calibrated0\")"
   ]
  },
  {
   "cell_type": "code",
   "execution_count": null,
   "metadata": {
    "tags": []
   },
   "outputs": [],
   "source": [
    "actuators[actuators['calibrated0']>0]"
   ]
  },
  {
   "cell_type": "markdown",
   "metadata": {
    "tags": []
   },
   "source": [
    "## August 2022\n",
    "August 2022 data is restored at the Base EFD on a shard basis. That  means we have to query individual shards (a week worth of data) and concatenate the partial results.\n",
    "\n",
    "For that we need to map the shards and their database:"
   ]
  },
  {
   "cell_type": "code",
   "execution_count": null,
   "metadata": {
    "tags": []
   },
   "outputs": [],
   "source": [
    "august2022 = [\n",
    "    {\"db_name\": \"efd-s1071\", \"start\": \"2022-08-08\", \"end\": \"2022-08-15\"},\n",
    "    {\"db_name\": \"efd-s1078\", \"start\": \"2022-08-15\", \"end\": \"2022-08-22\"},\n",
    "    {\"db_name\": \"efd-s1088\", \"start\": \"2022-08-22\", \"end\": \"2022-08-29\"}\n",
    "]"
   ]
  },
  {
   "cell_type": "markdown",
   "metadata": {
    "tags": []
   },
   "source": [
    "We also need this helper function:"
   ]
  },
  {
   "cell_type": "code",
   "execution_count": null,
   "metadata": {
    "tags": []
   },
   "outputs": [],
   "source": [
    "async def query_shards(period, query):\n",
    "\n",
    "    df = pd.Series()\n",
    "    \n",
    "    for shard in period:\n",
    "\n",
    "        client = EfdClient(\"summit_efd_copy\", db_name=shard[\"db_name\"])\n",
    "        q = query.substitute(start=shard[\"start\"], end=shard[\"end\"])\n",
    "        print(f\"DEBUG: {q}\")\n",
    "        partial = await client.influx_client.query(q)\n",
    "        \n",
    "        if type(partial) is not dict:\n",
    "            df = pd.concat([df, partial])\n",
    "        \n",
    "    return df"
   ]
  },
  {
   "cell_type": "markdown",
   "metadata": {},
   "source": [
    "And a template query that has the `start` and `end` variables. "
   ]
  },
  {
   "cell_type": "code",
   "execution_count": null,
   "metadata": {
    "tags": []
   },
   "outputs": [],
   "source": [
    "# Query MTHexapod heartbeats\n",
    "\n",
    "query = Template('''SELECT count(\"heartbeat\") AS \"count_heartbeat\" FROM \"lsst.sal.MTHexapod.logevent_heartbeat\" WHERE time > '$start' AND time < '$end' GROUP BY time(1h) ''')\n",
    "heartbeats = await query_shards(august2022, query)"
   ]
  },
  {
   "cell_type": "code",
   "execution_count": null,
   "metadata": {
    "tags": []
   },
   "outputs": [],
   "source": [
    "heartbeats.plot(y=\"count_heartbeat\")"
   ]
  },
  {
   "cell_type": "code",
   "execution_count": null,
   "metadata": {
    "tags": []
   },
   "outputs": [],
   "source": [
    "# Query MTHexapod actuators data (salIndex=1 means means Camera Hexapod)\n",
    "\n",
    "query = Template('''SELECT \"calibrated0\", \"calibrated1\", \"calibrated2\", \"calibrated3\", \"calibrated4\", \"calibrate5\" FROM \"lsst.sal.MTHexapod.actuators\" WHERE salIndex=1 AND time > '$start' AND time < '$end' ''')\n",
    "actuators = await query_shards(august2022, query)"
   ]
  },
  {
   "cell_type": "code",
   "execution_count": null,
   "metadata": {
    "tags": []
   },
   "outputs": [],
   "source": [
    "actuators.plot(y=\"calibrated0\")"
   ]
  },
  {
   "cell_type": "markdown",
   "metadata": {
    "tags": []
   },
   "source": [
    "### September 2022\n",
    "September 2022 data is also restored at the Base EFD on a shard basis. "
   ]
  },
  {
   "cell_type": "code",
   "execution_count": null,
   "metadata": {
    "tags": []
   },
   "outputs": [],
   "source": [
    "september2022 = [\n",
    "    {\"db_name\": \"efd-s597\", \"start\": \"2022-08-29\", \"end\": \"2022-09-05\"},\n",
    "    {\"db_name\": \"efd-s602\", \"start\": \"2022-09-05\", \"end\": \"2022-09-12\"},\n",
    "    {\"db_name\": \"efd-s921\", \"start\": \"2022-09-12\", \"end\": \"2022-09-19\"},\n",
    "    {\"db_name\": \"efd-s932\", \"start\": \"2022-09-19\", \"end\": \"2022-09-26\"},\n",
    "    {\"db_name\": \"efd-s943\", \"start\": \"2022-09-26\", \"end\": \"2022-10-03\"}\n",
    "]"
   ]
  },
  {
   "cell_type": "code",
   "execution_count": null,
   "metadata": {
    "tags": []
   },
   "outputs": [],
   "source": [
    "# Query MTHexapod heartbeats\n",
    "\n",
    "query = Template('''SELECT count(\"heartbeat\") AS \"count_heartbeat\" FROM \"lsst.sal.MTHexapod.logevent_heartbeat\" WHERE time > '$start' AND time < '$end' GROUP BY time(1h) ''')\n",
    "\n",
    "heartbeats = await query_shards(september2022, query)"
   ]
  },
  {
   "cell_type": "code",
   "execution_count": null,
   "metadata": {
    "tags": []
   },
   "outputs": [],
   "source": [
    "heartbeats.plot(y=\"count_heartbeat\")"
   ]
  },
  {
   "cell_type": "code",
   "execution_count": null,
   "metadata": {
    "tags": []
   },
   "outputs": [],
   "source": [
    "# Query MTHexapod actuators data (salIndex=1 means means Camera Hexapod)\n",
    "\n",
    "query = Template('''SELECT \"calibrated0\", \"calibrated1\", \"calibrated2\", \"calibrated3\", \"calibrated4\", \"calibrated5\" FROM \"lsst.sal.MTHexapod.actuators\" WHERE salIndex=1 AND time > '$start' AND time < '$end' ''')\n",
    "actuators = await query_shards(september2022, query)"
   ]
  },
  {
   "cell_type": "code",
   "execution_count": null,
   "metadata": {
    "tags": []
   },
   "outputs": [],
   "source": [
    "actuators.plot(y=\"calibrated0\")"
   ]
  },
  {
   "cell_type": "code",
   "execution_count": null,
   "metadata": {
    "tags": []
   },
   "outputs": [],
   "source": [
    "actuators[actuators['calibrated0']>0]"
   ]
  },
  {
   "cell_type": "markdown",
   "metadata": {
    "tags": []
   },
   "source": [
    "### October 2022\n",
    "October 2022 data is also restored at the Base EFD on a shard basis. "
   ]
  },
  {
   "cell_type": "code",
   "execution_count": null,
   "metadata": {
    "tags": []
   },
   "outputs": [],
   "source": [
    "october2022 = [\n",
    "    {\"db_name\": \"efd-s987\", \"start\": \"2022-10-24\", \"end\": \"2022-10-31\"},\n",
    "    {\"db_name\": \"efd-s976\", \"start\": \"2022-10-17\", \"end\": \"2022-10-24\"},\n",
    "    {\"db_name\": \"efd-s965\", \"start\": \"2022-10-10\", \"end\": \"2022-10-17\"},\n",
    "    {\"db_name\": \"efd-s954\", \"start\": \"2022-10-03\", \"end\": \"2022-10-10\"}\n",
    "]"
   ]
  },
  {
   "cell_type": "code",
   "execution_count": null,
   "metadata": {
    "tags": []
   },
   "outputs": [],
   "source": [
    "# Query MTHexapod heartbeats\n",
    "\n",
    "query = Template('''SELECT count(\"heartbeat\") AS \"count_heartbeat\" FROM \"lsst.sal.MTHexapod.logevent_heartbeat\" WHERE time > '$start' AND time < '$end' GROUP BY time(1h) ''')\n",
    "\n",
    "heartbeats = await query_shards(october2022, query)"
   ]
  },
  {
   "cell_type": "code",
   "execution_count": null,
   "metadata": {
    "tags": []
   },
   "outputs": [],
   "source": [
    "heartbeats.plot(y=\"count_heartbeat\")"
   ]
  },
  {
   "cell_type": "code",
   "execution_count": null,
   "metadata": {
    "tags": []
   },
   "outputs": [],
   "source": [
    "# Query MTHexapod actuators data (salIndex=1 means means Camera Hexapod)\n",
    "\n",
    "query = Template('''SELECT \"calibrated0\", \"calibrated1\", \"calibrated2\", \"calibrated3\", \"calibrated4\", \"calibrated5\" FROM \"lsst.sal.MTHexapod.actuators\" WHERE salIndex=1 AND time > '$start' AND time < '$end' ''')\n",
    "actuators = await query_shards(october2022, query)"
   ]
  },
  {
   "cell_type": "code",
   "execution_count": null,
   "metadata": {
    "tags": []
   },
   "outputs": [],
   "source": [
    "actuators.plot(y=\"calibrated0\")"
   ]
  },
  {
   "cell_type": "code",
   "execution_count": null,
   "metadata": {
    "tags": []
   },
   "outputs": [],
   "source": [
    "actuators[actuators['calibrated0']>0]"
   ]
  },
  {
   "cell_type": "code",
   "execution_count": null,
   "metadata": {},
   "outputs": [],
   "source": []
  }
 ],
 "metadata": {
  "kernelspec": {
   "display_name": "LSST",
   "language": "python",
   "name": "lsst"
  },
  "language_info": {
   "codemirror_mode": {
    "name": "ipython",
    "version": 3
   },
   "file_extension": ".py",
   "mimetype": "text/x-python",
   "name": "python",
   "nbconvert_exporter": "python",
   "pygments_lexer": "ipython3",
   "version": "3.10.10"
  }
 },
 "nbformat": 4,
 "nbformat_minor": 4
}
