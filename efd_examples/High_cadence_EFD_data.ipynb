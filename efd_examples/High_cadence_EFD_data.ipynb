{
 "cells": [
  {
   "cell_type": "markdown",
   "metadata": {},
   "source": [
    "## Accessing high cadence DM-EFD data\n"
   ]
  },
  {
   "cell_type": "markdown",
   "metadata": {},
   "source": [
    "See the introductory notes in the [Accessing_EFD_data.ipynb](https://github.com/lsst-sqre/notebook-demo/blob/master/efd_examlpes/Accessing_EFD_data.ipynb) notebook for links to documentation and help with authentication."
   ]
  },
  {
   "cell_type": "markdown",
   "metadata": {},
   "source": [
    "### Import modules and construct the client"
   ]
  },
  {
   "cell_type": "code",
   "execution_count": null,
   "metadata": {
    "scrolled": true
   },
   "outputs": [],
   "source": [
    "import matplotlib\n",
    "%matplotlib widget\n",
    "from matplotlib import pylab as plt\n",
    "from astropy.time import Time, TimeDelta\n",
    "\n",
    "from bokeh.plotting import figure, output_notebook, show\n",
    "from bokeh.models import LinearAxis, Range1d\n",
    "output_notebook()"
   ]
  },
  {
   "cell_type": "code",
   "execution_count": null,
   "metadata": {},
   "outputs": [],
   "source": [
    "from lsst_efd_client import EfdClient, resample"
   ]
  },
  {
   "cell_type": "code",
   "execution_count": null,
   "metadata": {},
   "outputs": [],
   "source": [
    "efd_client = EfdClient('ldf_stable_efd')"
   ]
  },
  {
   "cell_type": "markdown",
   "metadata": {},
   "source": [
    "It's easy to query for topics or fields in a specific topic."
   ]
  },
  {
   "cell_type": "code",
   "execution_count": null,
   "metadata": {},
   "outputs": [],
   "source": [
    "topics = await efd_client.get_topics()\n",
    "topics[:15]"
   ]
  },
  {
   "cell_type": "code",
   "execution_count": null,
   "metadata": {},
   "outputs": [],
   "source": [
    "fields = await efd_client.get_fields(topics[0])\n",
    "fields"
   ]
  },
  {
   "cell_type": "markdown",
   "metadata": {},
   "source": [
    "### Query for data"
   ]
  },
  {
   "cell_type": "markdown",
   "metadata": {},
   "source": [
    "Times need to be specified in TAI and with `astropy` time-like objects."
   ]
  },
  {
   "cell_type": "code",
   "execution_count": null,
   "metadata": {},
   "outputs": [],
   "source": [
    "start = Time('2019-12-11T05:20:00', scale='tai')\n",
    "end = TimeDelta(60, format='sec', scale='tai')"
   ]
  },
  {
   "cell_type": "markdown",
   "metadata": {},
   "source": [
    "Query for some high cadence data.  This assumes 100 samples per message."
   ]
  },
  {
   "cell_type": "code",
   "execution_count": null,
   "metadata": {},
   "outputs": [],
   "source": [
    "measured_azel = await efd_client.select_packed_time_series('lsst.sal.ATMCS.mount_AzEl_Encoders', ['azimuthCalculatedAngle', 'elevationCalculatedAngle'], start, end)\n",
    "measured_azel_vel = await efd_client.select_packed_time_series('lsst.sal.ATMCS.measuredMotorVelocity', ['azimuthMotor1Velocity', 'azimuthMotor2Velocity', 'elevationMotorVelocity'], start, end)\n",
    "commanded_azel = await efd_client.select_packed_time_series('lsst.sal.ATMCS.trajectory', ['azimuth', 'azimuthVelocity', 'elevation', 'elevationVelocity'], start, end)"
   ]
  },
  {
   "cell_type": "markdown",
   "metadata": {},
   "source": [
    "Plot the data."
   ]
  },
  {
   "cell_type": "code",
   "execution_count": null,
   "metadata": {},
   "outputs": [],
   "source": [
    "p = figure(x_axis_type='datetime', plot_width=800, plot_height=400)\n",
    "p.yaxis.axis_label = \"Azimuth (degrees)\"\n",
    "p.xaxis.axis_label = \"Time\"\n",
    "p.line(x=commanded_azel.index.values, y=commanded_azel['azimuth'], color='black', line_width=2, legend_label='Commanded Az')\n",
    "p.line(x=measured_azel.index.values, y=measured_azel['azimuthCalculatedAngle'], color='lightblue', line_width=2, legend_label='Computed Az')\n",
    "p.extra_y_ranges = {'Velocity': Range1d(start=-2.5, end=2.5)}\n",
    "p.add_layout(LinearAxis(y_range_name='Velocity', axis_label='Velocity'), 'right')\n",
    "p.line(x=measured_azel_vel.index.values, y=measured_azel_vel['azimuthMotor1Velocity'], color='red', alpha=0.5, y_range_name='Velocity', legend_label='Measured Az Velocity Motor 1')\n",
    "p.line(x=measured_azel_vel.index.values, y=measured_azel_vel['azimuthMotor2Velocity'], color='blue', alpha=0.5, y_range_name='Velocity', legend_label='Measured Az Velocity Motor 2')\n",
    "p.line(x=commanded_azel.index.values, y=commanded_azel['azimuthVelocity'], color='black', alpha=0.5, y_range_name='Velocity', legend_label='Commanded Az Velocity')\n",
    "p.legend.location = 'bottom_left'\n",
    "p.legend.click_policy = 'hide'\n",
    "show(p)"
   ]
  },
  {
   "cell_type": "markdown",
   "metadata": {},
   "source": [
    "There is a convenience function to resample two time series onto each other.  This allows plotting/analysis of time series that are not sampled on the same times."
   ]
  },
  {
   "cell_type": "code",
   "execution_count": null,
   "metadata": {},
   "outputs": [],
   "source": [
    "interp = resample(measured_azel, commanded_azel)\n",
    "ratio = interp['elevationCalculatedAngle']/interp['elevation']"
   ]
  },
  {
   "cell_type": "code",
   "execution_count": null,
   "metadata": {},
   "outputs": [],
   "source": [
    "p = figure(x_axis_type='datetime', y_range=(0.99999, 1.00001), plot_width=800, plot_height=400)\n",
    "p.yaxis.axis_label = \"Ratio of measured to commanded elevation\"\n",
    "p.xaxis.axis_label = \"Time\"\n",
    "p.extra_y_ranges = {'Velocity': Range1d(start=-0.1, end=0.1)}\n",
    "p.add_layout(LinearAxis(y_range_name='Velocity', axis_label='Velocity'), 'right')\n",
    "p.line(x=measured_azel_vel.index.values, y=measured_azel_vel['elevationMotorVelocity'], color='red', alpha=0.5, y_range_name='Velocity', legend_label='Measured El Velocity Motor')\n",
    "p.line(x=commanded_azel.index.values, y=commanded_azel['elevationVelocity'], color='black', alpha=0.5, y_range_name='Velocity', legend_label='Commanded El Velocity')\n",
    "p.line(x=ratio.index.values, y=ratio.values, color='black', line_width=2, legend_label='ratio', alpha=0.3)\n",
    "p.legend.location = 'bottom_left'\n",
    "p.legend.click_policy = 'hide'\n",
    "show(p)"
   ]
  }
 ],
 "metadata": {
  "kernelspec": {
   "display_name": "LSST",
   "language": "python",
   "name": "lsst"
  },
  "language_info": {
   "codemirror_mode": {
    "name": "ipython",
    "version": 3
   },
   "file_extension": ".py",
   "mimetype": "text/x-python",
   "name": "python",
   "nbconvert_exporter": "python",
   "pygments_lexer": "ipython3",
   "version": "3.8.8"
  }
 },
 "nbformat": 4,
 "nbformat_minor": 4
}
