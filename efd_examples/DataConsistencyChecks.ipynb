{
 "cells": [
  {
   "cell_type": "markdown",
   "id": "85097997-7628-43d6-b580-3bae6a14663f",
   "metadata": {},
   "source": [
    "# EFD data consistency checks"
   ]
  },
  {
   "cell_type": "code",
   "execution_count": null,
   "id": "9da6b26d-c076-4f3b-9356-ebfd69536c41",
   "metadata": {
    "tags": []
   },
   "outputs": [],
   "source": [
    "import pandas as pd\n",
    "from lsst_efd_client import EfdClient"
   ]
  },
  {
   "cell_type": "markdown",
   "id": "0340925b-ef4e-4829-a06c-b84bf32a8655",
   "metadata": {},
   "source": [
    "## Reliability check\n",
    "Are all messages being recorded? Use the sequence number private field added by SAL"
   ]
  },
  {
   "cell_type": "code",
   "execution_count": null,
   "id": "4606f835-19a8-4be9-abd2-7c597823af4d",
   "metadata": {
    "tags": []
   },
   "outputs": [],
   "source": [
    "async def reliability_check(env, date, duration=\"24h\"):\n",
    "    \n",
    "    client = EfdClient(env)\n",
    "\n",
    "    topics = await client.get_topics()\n",
    "    print(f\"Found {len(topics)} topics at {env}.\")\n",
    "    \n",
    "    for topic in topics:\n",
    "        query = f'''SELECT private_seqNum FROM \"{topic}\" WHERE time > '{date}' AND time < '{date}' + {duration} '''\n",
    "        df = await client.influx_client.query(query)\n",
    "        \n",
    "\n",
    "        if type(df) is not dict: \n",
    "\n",
    "            missing = (df - df.shift(periods=1) - 1).sum().iloc[0]\n",
    "            if missing > 0:\n",
    "                print(f\"Found {int(missing)} message(s) missing from {topic} on {date}.\")\n"
   ]
  },
  {
   "cell_type": "code",
   "execution_count": null,
   "id": "2ef88f83-dd20-4352-abe1-3f7ac7e7c88d",
   "metadata": {
    "tags": []
   },
   "outputs": [],
   "source": [
    "async def plot_seqnum(env, topic, date, duration=\"24h\"):\n",
    "    \n",
    "    client = EfdClient(env)\n",
    "    \n",
    "    query = f'''SELECT private_seqNum FROM \"{topic}\" WHERE time > '{date}' AND time < '{date}' + {duration} '''\n",
    "    df = await client.influx_client.query(query)\n",
    "    \n",
    "    df.plot()"
   ]
  },
  {
   "cell_type": "code",
   "execution_count": null,
   "id": "d02743bd-a710-4645-9608-df1cc8ba3187",
   "metadata": {
    "tags": []
   },
   "outputs": [],
   "source": [
    "await reliability_check(\"summit_efd\", \"2023-08-23\")"
   ]
  },
  {
   "cell_type": "code",
   "execution_count": null,
   "id": "347ca4b7-b9af-4492-8455-b614d9b7dff5",
   "metadata": {
    "tags": []
   },
   "outputs": [],
   "source": [
    "await reliability_check(\"usdf_efd\", \"2023-08-23\")"
   ]
  },
  {
   "cell_type": "markdown",
   "id": "ed882dea-d6f1-4c4a-9118-917eeaf6f1f0",
   "metadata": {
    "execution": {
     "iopub.execute_input": "2023-08-23T23:55:03.390392Z",
     "iopub.status.busy": "2023-08-23T23:55:03.390021Z",
     "iopub.status.idle": "2023-08-23T23:55:03.440579Z",
     "shell.execute_reply": "2023-08-23T23:55:03.439947Z",
     "shell.execute_reply.started": "2023-08-23T23:55:03.390374Z"
    },
    "tags": []
   },
   "source": [
    "## Data consistency check\n",
    "\n",
    "Does Summit EFD and USDF EFD have the same data? Count messages in each environment and compare"
   ]
  },
  {
   "cell_type": "code",
   "execution_count": null,
   "id": "f7c4e4d7-5765-42c1-8d1d-7d93bba35f8f",
   "metadata": {
    "tags": []
   },
   "outputs": [],
   "source": [
    "async def consitency_check(env1, env2, date, duration=\"24h\", interval=\"1h\"):\n",
    "    \n",
    "    client1 = EfdClient(env1)\n",
    "    client2 = EfdClient(env2)\n",
    "    \n",
    "    topics = await client1.get_topics()\n",
    "    \n",
    "    for topic in topics:\n",
    "        \n",
    "        query = f'''SELECT count(private_sndStamp) FROM \"{topic}\" WHERE time > '{date}' AND time < '{date}' + {duration} GROUP BY time({interval}) '''\n",
    "        df1 = await client1.influx_client.query(query)\n",
    "        df2 = await client2.influx_client.query(query)\n",
    "        \n",
    "        if type(df1) is not dict:           \n",
    "            counts1 = df1.sum().iloc[0]\n",
    "        else:\n",
    "            continue\n",
    "            \n",
    "        if type(df2) is not dict:\n",
    "            counts2 = df2.sum().iloc[0]\n",
    "        else:\n",
    "            counts2 = 0\n",
    "    \n",
    "        if counts1 != counts2:\n",
    "            diff = int(counts1 - counts2)\n",
    "            print(f\"{topic}: {int(counts1)} message(s) at {env1} and {int(counts2)} messages at {env2}. Difference is {int(diff)} message(s) or {round(diff/counts1*100,3)}%.\")\n",
    "\n"
   ]
  },
  {
   "cell_type": "code",
   "execution_count": null,
   "id": "5c98750d-a9d9-4696-bc2a-f8a8ee68cc87",
   "metadata": {
    "tags": []
   },
   "outputs": [],
   "source": [
    "await consitency_check(\"summit_efd\", \"usdf_efd\", \"2023-08-23\")"
   ]
  },
  {
   "cell_type": "code",
   "execution_count": null,
   "id": "7a4bc0a8-eeb3-4dac-87c1-cd8230293045",
   "metadata": {
    "tags": []
   },
   "outputs": [],
   "source": [
    "async def find_missing_data_events(env1, env2, topic, date, duration=\"24h\", interval=\"15m\"):\n",
    "    \n",
    "    client1 = EfdClient(env1)\n",
    "    client2 = EfdClient(env2)\n",
    "    \n",
    "        \n",
    "    query = f'''SELECT count(private_sndStamp) FROM \"{topic}\" WHERE time > '{date}' AND time < '{date}' + {duration} GROUP BY time({interval}) '''\n",
    "    df1 = await client1.influx_client.query(query)\n",
    "    df2 = await client2.influx_client.query(query)\n",
    "\n",
    "    diff = df1 - df2\n",
    "    diff.plot()\n",
    "    \n",
    "    \n",
    "    print(f\"Missing data events: {diff[diff['count']>0]}\")\n",
    "        "
   ]
  },
  {
   "cell_type": "code",
   "execution_count": null,
   "id": "d4fd3589-5732-4c56-b710-dd3e4846776f",
   "metadata": {
    "tags": []
   },
   "outputs": [],
   "source": [
    "await find_missing_data_events(\"summit_efd\", \"usdf_efd\", \"lsst.sal.MTM1M3.accelerometerData\", \"2023-08-23\")"
   ]
  }
 ],
 "metadata": {
  "kernelspec": {
   "display_name": "LSST",
   "language": "python",
   "name": "lsst"
  },
  "language_info": {
   "codemirror_mode": {
    "name": "ipython",
    "version": 3
   },
   "file_extension": ".py",
   "mimetype": "text/x-python",
   "name": "python",
   "nbconvert_exporter": "python",
   "pygments_lexer": "ipython3",
   "version": "3.10.10"
  }
 },
 "nbformat": 4,
 "nbformat_minor": 5
}
