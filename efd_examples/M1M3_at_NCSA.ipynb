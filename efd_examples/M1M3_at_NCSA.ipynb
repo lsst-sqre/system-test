{
 "cells": [
  {
   "cell_type": "markdown",
   "metadata": {},
   "source": [
    "## Access Summit EFD data from the LDF\n",
    "---\n",
    "[The EFD replication service](https://sqr-050.lsst.io/) runs at LDF and continuously pulls data from the Summit EFD"
   ]
  },
  {
   "cell_type": "code",
   "execution_count": null,
   "metadata": {},
   "outputs": [],
   "source": [
    "from astropy.time import Time, TimeDelta\n",
    "import pandas as pd\n",
    "from lsst_efd_client import EfdClient"
   ]
  },
  {
   "cell_type": "markdown",
   "metadata": {},
   "source": [
    "Create the client pointed to the LDF EFD instance replpicated from the summit.  This will automatically retrieve credentials to use for access to the read only user for that particular instance"
   ]
  },
  {
   "cell_type": "code",
   "execution_count": null,
   "metadata": {},
   "outputs": [],
   "source": [
    "efd_stable = EfdClient('ldf_stable_efd')"
   ]
  },
  {
   "cell_type": "markdown",
   "metadata": {},
   "source": [
    "Now select some data.  This will take about 20 seconds to return ~1 million rows"
   ]
  },
  {
   "cell_type": "code",
   "execution_count": null,
   "metadata": {},
   "outputs": [],
   "source": [
    "measured_fields = [f'measuredForce{el}' for el in range(6)]\n",
    "end = Time('2022-03-01T07:00:00Z')\n",
    "window = TimeDelta(60*60*6, format='sec')\n",
    "actuators = await efd_stable.select_time_series('lsst.sal.MTM1M3.hardpointActuatorData', measured_fields+['forceMagnitude',], end-window, end)"
   ]
  },
  {
   "cell_type": "markdown",
   "metadata": {},
   "source": [
    "It's nice having the full time resolution data, but for plotting over time spans of several hours, we can downsample."
   ]
  },
  {
   "cell_type": "code",
   "execution_count": null,
   "metadata": {},
   "outputs": [],
   "source": [
    "sample_window = '10min'\n",
    "resampled_dict = {'forceMagnitude': actuators['forceMagnitude'].resample(sample_window).mean()}\n",
    "for el in range(6):\n",
    "    col = f'measuredForce{el}'\n",
    "    resampled_dict[col] = actuators[col].resample(sample_window).mean()\n",
    "\n",
    "actuators_resample = pd.DataFrame(resampled_dict, index=resampled_dict['forceMagnitude'].index)"
   ]
  },
  {
   "cell_type": "markdown",
   "metadata": {},
   "source": [
    "Now plot the results."
   ]
  },
  {
   "cell_type": "code",
   "execution_count": null,
   "metadata": {},
   "outputs": [],
   "source": [
    "ax = actuators_resample.plot(figsize=(10,10))\n",
    "_ = ax.set_xlabel('Time (UTC)')\n",
    "_ = ax.set_ylabel('Force (N)')"
   ]
  }
 ],
 "metadata": {
  "kernelspec": {
   "display_name": "LSST",
   "language": "python",
   "name": "lsst"
  },
  "language_info": {
   "codemirror_mode": {
    "name": "ipython",
    "version": 3
   },
   "file_extension": ".py",
   "mimetype": "text/x-python",
   "name": "python",
   "nbconvert_exporter": "python",
   "pygments_lexer": "ipython3",
   "version": "3.8.12"
  }
 },
 "nbformat": 4,
 "nbformat_minor": 4
}
