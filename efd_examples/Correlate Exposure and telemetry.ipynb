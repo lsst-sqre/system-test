{
 "cells": [
  {
   "cell_type": "markdown",
   "metadata": {},
   "source": [
    "## Correlate exposures with telemetry"
   ]
  },
  {
   "cell_type": "markdown",
   "metadata": {},
   "source": [
    "See the introductory notes in the [Accessing_EFD_data.ipynb](https://github.com/lsst-sqre/notebook-demo/blob/master/efd_examlpes/Accessing_EFD_data.ipynb) notebook for links to documentation and help with authentication."
   ]
  },
  {
   "cell_type": "code",
   "execution_count": null,
   "metadata": {
    "scrolled": true
   },
   "outputs": [],
   "source": [
    "import matplotlib\n",
    "%matplotlib inline\n",
    "from matplotlib import pylab as plt\n",
    "import pandas as pd\n",
    "from astropy.time import Time, TimeDelta\n",
    "\n",
    "from lsst_efd_client import EfdClient"
   ]
  },
  {
   "cell_type": "code",
   "execution_count": null,
   "metadata": {},
   "outputs": [],
   "source": [
    "client = EfdClient('ldf_stable_efd')"
   ]
  },
  {
   "cell_type": "markdown",
   "metadata": {},
   "source": [
    "Specify a time range for data in `InfluxQL`.  This notebook looks at data from October 2021."
   ]
  },
  {
   "cell_type": "code",
   "execution_count": null,
   "metadata": {},
   "outputs": [],
   "source": [
    "t2 = Time('2021-10-06T18:00:00')\n",
    "t1 = t2 - TimeDelta(24*3600, format='sec')"
   ]
  },
  {
   "cell_type": "markdown",
   "metadata": {},
   "source": [
    "Query each of the measurements we may want to correlate later in the notebook.  Note that this could be done as a single query, but the result is a dictionary of `DataFrames` which I find less convenient to use than named variables corresponding to one `DataFrame` each."
   ]
  },
  {
   "cell_type": "code",
   "execution_count": null,
   "metadata": {},
   "outputs": [],
   "source": [
    "df1 = await client.select_time_series(\"lsst.sal.ATCamera.fp_Reb\", [\"temp1\", \"temp2\", \"temp3\", \"temp4\", \"temp5\", \"temp6\", \"aspicl_Temp0\"], t1, t2)\n",
    "\n",
    "df2 = await client.select_time_series(\"lsst.sal.ATCamera.command_takeImages\", [\"expTime\", \"numImages\"], t1, t2)\n",
    "\n",
    "df3 = await client.select_time_series(\"lsst.sal.ATCamera.fp_Reb\", \"anaI\", t1, t2)\n",
    "\n",
    "shutter_close = await client.select_time_series(\"lsst.sal.ATCamera.logevent_endShutterClose\", \"priority\", t1, t2)\n",
    "\n",
    "shutter_open = await client.select_time_series(\"lsst.sal.ATCamera.logevent_endShutterOpen\", \"priority\", t1, t2)\n",
    "\n",
    "start_readout = await client.select_time_series(\"lsst.sal.ATCamera.logevent_startReadout\", [\"priority\", \"private_sndStamp\", \"private_rcvStamp\"], t1, t2)\n",
    "\n",
    "end_readout = await client.select_time_series(\"lsst.sal.ATCamera.logevent_endReadout\", [\"priority\", \"private_sndStamp\", \"private_rcvStamp\"], t1, t2)\n",
    "\n",
    "start_integration = await client.select_time_series(\"lsst.sal.ATCamera.logevent_startIntegration\", [\"priority\", \"private_sndStamp\", \"private_rcvStamp\"], t1, t2)"
   ]
  },
  {
   "cell_type": "markdown",
   "metadata": {},
   "source": [
    "Select a telemetry stream, `anaI`, and overplot log messages from the `start_integration`, `start_readout`, and `end_readout` log streams."
   ]
  },
  {
   "cell_type": "code",
   "execution_count": null,
   "metadata": {},
   "outputs": [],
   "source": [
    "plt = df3.plot(y=\"anaI\")\n",
    "for i, r in start_integration.iterrows():\n",
    "    plt.axvline(pd.Timestamp(r['private_sndStamp'], unit='s'), c='g', alpha=0.3)\n",
    "for i, r in start_readout.iterrows():\n",
    "    plt.axvline(pd.Timestamp(r['private_sndStamp'], unit='s'), c='b', alpha=0.3)\n",
    "for i, r in end_readout.iterrows():\n",
    "    plt.axvline(pd.Timestamp(r['private_sndStamp'], unit='s'), c='r', alpha=0.3)"
   ]
  },
  {
   "cell_type": "markdown",
   "metadata": {},
   "source": [
    "Inspect time stamps.  There are three obvious ones: the timestamp from `InfluxDB`, `private_rcvStamp` from SAL, and `private_sndStamp` from SAL."
   ]
  },
  {
   "cell_type": "code",
   "execution_count": null,
   "metadata": {},
   "outputs": [],
   "source": [
    "plt = df3.plot()\n",
    "diff = []\n",
    "for i, r in start_integration.iterrows():\n",
    "    plt.axvline(i, c='g', alpha=0.3)\n",
    "    plt.axvline(pd.Timestamp(r['private_rcvStamp'], unit='s'), c='b', alpha=0.3)\n",
    "    plt.axvline(pd.Timestamp(r['private_sndStamp'], unit='s'), c='r', alpha=0.3)\n",
    "    diff.append(pd.Timestamp(r['private_rcvStamp'], unit='s') - pd.Timestamp(r['private_sndStamp'], unit='s'))\n",
    "    diff[-1] = diff[-1].value/1000000000"
   ]
  },
  {
   "cell_type": "markdown",
   "metadata": {},
   "source": [
    "Look at the histogram of timestamp differences for `private_rcvStamp` - `private_sndStamp`."
   ]
  },
  {
   "cell_type": "code",
   "execution_count": null,
   "metadata": {},
   "outputs": [],
   "source": [
    "diff_df = pd.DataFrame(diff)\n",
    "diff_df.hist(bins=50)"
   ]
  }
 ],
 "metadata": {
  "kernelspec": {
   "display_name": "LSST",
   "language": "python",
   "name": "lsst"
  },
  "language_info": {
   "codemirror_mode": {
    "name": "ipython",
    "version": 3
   },
   "file_extension": ".py",
   "mimetype": "text/x-python",
   "name": "python",
   "nbconvert_exporter": "python",
   "pygments_lexer": "ipython3",
   "version": "3.8.12"
  }
 },
 "nbformat": 4,
 "nbformat_minor": 4
}
