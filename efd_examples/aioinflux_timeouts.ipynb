{
 "cells": [
  {
   "cell_type": "markdown",
   "id": "cdcfc9de-8695-4011-963c-d0b4bb94a638",
   "metadata": {},
   "source": [
    "# Investigating aioinflux timeouts in chunked queries"
   ]
  },
  {
   "cell_type": "markdown",
   "id": "a0f22b64-4604-482b-a606-631a1ba3456f",
   "metadata": {},
   "source": [
    "We are seeing timeouts when querying the EFD with `aioinlfux` using chunked queries with small chunk sizes. \n",
    "\n",
    "One would expect that the smaller the chunk size the faster the async request would return, but that's not always the case. If the chunk size is too small, there's an overhead in generating too many requests to InfluxDB. What we see in this case is that some chunks take longer than 5 minutes (the `aiohttp` client default timeout) to return and are canceled."
   ]
  },
  {
   "cell_type": "code",
   "execution_count": null,
   "id": "026bca9f-6f00-4d9b-bbd8-a0ce254820be",
   "metadata": {},
   "outputs": [],
   "source": [
    "import asyncio\n",
    "import pandas\n",
    "\n",
    "from astropy.time import Time, TimeDelta\n",
    "from aioinflux import InfluxDBClient\n",
    "from lsst_efd_client import EfdClient"
   ]
  },
  {
   "cell_type": "markdown",
   "id": "16bec9ff-8cce-433f-9b9a-55922409d123",
   "metadata": {},
   "source": [
    "Setting aioinflux logging level to DEBUG helps to the keep track of when the chunks are being returned, but be aware that the output is very large."
   ]
  },
  {
   "cell_type": "code",
   "execution_count": null,
   "id": "9c883105-0d7c-4d5f-96e6-37c606196dc3",
   "metadata": {},
   "outputs": [],
   "source": [
    "#import logging\n",
    "#logging.basicConfig()\n",
    "#logging.getLogger('aioinflux').setLevel(logging.DEBUG)"
   ]
  },
  {
   "cell_type": "code",
   "execution_count": null,
   "id": "f9e4cdb0-21f9-40a6-84ea-b59cfec671ab",
   "metadata": {},
   "outputs": [],
   "source": [
    "efd = EfdClient('ldf_stable_efd')"
   ]
  },
  {
   "cell_type": "code",
   "execution_count": null,
   "id": "cc583196-83de-47ea-99ef-f7ce3b9f2563",
   "metadata": {},
   "outputs": [],
   "source": [
    "topic = 'lsst.sal.MTM2.position'\n",
    "\n",
    "stop = Time('2021-11-10T12:00:00Z', format='isot', scale='utc')\n",
    "start = stop - TimeDelta(12*24*3600, format='sec')\n",
    "print(start, stop)"
   ]
  },
  {
   "cell_type": "code",
   "execution_count": null,
   "id": "73bc54b8-777f-4788-a9b6-da7b7f7bbacb",
   "metadata": {},
   "outputs": [],
   "source": [
    "query_str = (\"SELECT * \" +\n",
    "             f\"FROM \\\"efd\\\".\\\"autogen\\\".\\\"{topic}\\\" \" +\n",
    "             f\"WHERE time > '{start.isot}Z' and time <= '{stop.isot}Z'\")\n",
    "print(query_str)"
   ]
  },
  {
   "cell_type": "markdown",
   "id": "765c3cc4-0231-450c-a17e-f2336230c26e",
   "metadata": {},
   "source": [
    "A small `chunk_size` will produce a timeout error after ~5 minutes:"
   ]
  },
  {
   "cell_type": "code",
   "execution_count": null,
   "id": "d6734921-d4cd-4814-a7fd-e066ac1bc289",
   "metadata": {
    "tags": []
   },
   "outputs": [],
   "source": [
    "cursor = await efd.influx_client.query(query_str, chunked=True, chunk_size=500)\n",
    "df = pandas.concat([i async for i in cursor])"
   ]
  },
  {
   "cell_type": "markdown",
   "id": "739c61ec-44e6-4f78-ac33-1657775ea466",
   "metadata": {},
   "source": [
    "Because `chunk_size` is so small there are too many async requests and that becomes inneficient. Some chunks take longer than 5 minutes (the `aiohttp` default timeout) to return and are canceled."
   ]
  },
  {
   "cell_type": "code",
   "execution_count": null,
   "id": "c53f13f8-a085-4984-a302-e2bb3f955d2e",
   "metadata": {},
   "outputs": [],
   "source": [
    "from aiohttp.client import DEFAULT_TIMEOUT\n",
    "print(DEFAULT_TIMEOUT)"
   ]
  },
  {
   "cell_type": "markdown",
   "id": "017337f9-9c1e-4d6e-8ad3-35008c3a262c",
   "metadata": {},
   "source": [
    "In fact by increasing the `chunk_size` we generate less async requests and the chunks finish in less than 5 minutes."
   ]
  },
  {
   "cell_type": "code",
   "execution_count": null,
   "id": "554e9380-739d-4844-ad5e-81f2b23ad222",
   "metadata": {},
   "outputs": [],
   "source": [
    "cursor = await efd.influx_client.query(query_str, chunked=True, chunk_size=10000)\n",
    "df = pandas.concat([i async for i in cursor])"
   ]
  },
  {
   "cell_type": "markdown",
   "id": "052df939-81fe-4b25-8cd7-6cf269a47b23",
   "metadata": {},
   "source": [
    "The `aioinflux` client implements the timeout option to [override the aiohttp default timeout](https://github.com/gusutabopb/aioinflux/blob/master/aioinflux/client.py#L134). We can expose this option to the EFD client as well.\n",
    "\n",
    "Here we show that by setting a larger timeout we can use a smaller `chunk_size`. However the lesson learned is that a smaller `chunk_size` doesn't necessarily mean a more efficient query because of the overhead of generating too many async requests.  \n",
    "\n",
    "NOTE: set the password for the `efdreader` user in the next cell."
   ]
  },
  {
   "cell_type": "code",
   "execution_count": null,
   "id": "4d348731-03ad-4d00-b57e-2f1b6d68ce10",
   "metadata": {},
   "outputs": [],
   "source": [
    "aioinflux_client = InfluxDBClient(host=\"lsst-influxdb-efd.ncsa.illinois.edu\", timeout=900, port=443, ssl=True, username=\"efdreader\", password=\"\", db=\"efd\", mode='async', output=\"dataframe\") "
   ]
  },
  {
   "cell_type": "code",
   "execution_count": null,
   "id": "c776feba-1415-4ec9-ae7d-11e9739ff59b",
   "metadata": {},
   "outputs": [],
   "source": [
    "cursor = await aioinflux_client.query(query_str, chunked=True, chunk_size=500)\n",
    "df = pandas.concat([i async for i in cursor])"
   ]
  }
 ],
 "metadata": {
  "kernelspec": {
   "display_name": "LSST",
   "language": "python",
   "name": "lsst"
  },
  "language_info": {
   "codemirror_mode": {
    "name": "ipython",
    "version": 3
   },
   "file_extension": ".py",
   "mimetype": "text/x-python",
   "name": "python",
   "nbconvert_exporter": "python",
   "pygments_lexer": "ipython3",
   "version": "3.8.8"
  }
 },
 "nbformat": 4,
 "nbformat_minor": 5
}
