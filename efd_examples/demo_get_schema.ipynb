{
 "cells": [
  {
   "cell_type": "markdown",
   "id": "4122274c",
   "metadata": {},
   "source": [
    "## Retreiving schema information for topics in the EFD"
   ]
  },
  {
   "cell_type": "markdown",
   "id": "164f3154",
   "metadata": {},
   "source": [
    "Instantiate the EFD client."
   ]
  },
  {
   "cell_type": "code",
   "execution_count": null,
   "id": "03ecffc4",
   "metadata": {},
   "outputs": [],
   "source": [
    "from lsst_efd_client import EfdClient\n",
    "client = EfdClient('ldf_stable_efd')"
   ]
  },
  {
   "cell_type": "markdown",
   "id": "dfedb451",
   "metadata": {},
   "source": [
    "Let's get a list of topics that we can use to get further schema information.\n",
    "There are many topics, so let's just print out the topics for the M1M3 subsystem."
   ]
  },
  {
   "cell_type": "code",
   "execution_count": null,
   "id": "211ea37a",
   "metadata": {},
   "outputs": [],
   "source": [
    "for topic in await client.get_topics():\n",
    "    if 'MTM1M3' in topic:\n",
    "        print(topic)"
   ]
  },
  {
   "cell_type": "markdown",
   "id": "f68c3da0",
   "metadata": {},
   "source": [
    "We can pick one of the topics to use to get more information.\n",
    "Let's pick `hardpointActuatorData` and use the helper method `get_fields` to print out the field names for that topic."
   ]
  },
  {
   "cell_type": "code",
   "execution_count": null,
   "id": "084fc812",
   "metadata": {},
   "outputs": [],
   "source": [
    "for field in await client.get_fields('lsst.sal.MTM1M3.hardpointActuatorData'):\n",
    "    print(field)"
   ]
  },
  {
   "cell_type": "markdown",
   "id": "433a0741",
   "metadata": {},
   "source": [
    "This is useful for browsing through the field names and may be sufficient in many cases, but what if you want to know more details about the fields.\n",
    "Use the `get_schema` helper method to retrieve more information including the `astropy.unit` for the field where possible.\n",
    "Note that not all fields in all topics provide all of the information, but most do."
   ]
  },
  {
   "cell_type": "code",
   "execution_count": null,
   "id": "f48ade89",
   "metadata": {},
   "outputs": [],
   "source": [
    "schema = await client.get_schema('lsst.sal.MTM1M3.hardpointActuatorData')"
   ]
  },
  {
   "cell_type": "code",
   "execution_count": null,
   "id": "d2950f72",
   "metadata": {},
   "outputs": [],
   "source": [
    "sorted_by_name = schema.sort_values('name')\n",
    "sorted_by_name"
   ]
  },
  {
   "cell_type": "markdown",
   "id": "142b6b42",
   "metadata": {},
   "source": [
    "Note that there are more fields than there are entries in the schema.\n",
    "In this case there are 6 physical hardpoints, and they all have the same schema.\n",
    "E.g. `measuredForce[0-5]` are the individual values for the six hardpoints, and can all be assumed to be described by the `measuredForce` entry in the schema."
   ]
  },
  {
   "cell_type": "markdown",
   "id": "c0401080",
   "metadata": {},
   "source": [
    "Finally, the `aunits` column contains the `astropy.unit` object associated with the field, if it's possible to construct one from the entry in `units`. If an `astropy.unit` cannot be constructed from the information in the `units` column, it will be assigned `None`."
   ]
  },
  {
   "cell_type": "code",
   "execution_count": null,
   "id": "b913bc0b",
   "metadata": {},
   "outputs": [],
   "source": [
    "for name, aunit in zip(sorted_by_name['name'], sorted_by_name['aunits']):\n",
    "    print(f'{name} --> {aunit}')"
   ]
  }
 ],
 "metadata": {
  "kernelspec": {
   "display_name": "LSST",
   "language": "python",
   "name": "lsst"
  },
  "language_info": {
   "codemirror_mode": {
    "name": "ipython",
    "version": 3
   },
   "file_extension": ".py",
   "mimetype": "text/x-python",
   "name": "python",
   "nbconvert_exporter": "python",
   "pygments_lexer": "ipython3",
   "version": "3.8.8"
  }
 },
 "nbformat": 4,
 "nbformat_minor": 5
}
