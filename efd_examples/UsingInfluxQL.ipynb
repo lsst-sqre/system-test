{
 "cells": [
  {
   "cell_type": "markdown",
   "metadata": {},
   "source": [
    "## Querying the EFD with InfluxQL"
   ]
  },
  {
   "cell_type": "markdown",
   "metadata": {},
   "source": [
    "\n",
    "In this notebook, we demonstrate how to utilize the EFD client along with InfluxQL for querying the EFD (Engineering and Facility Database).\n",
    "\n",
    "The InfluxQL queries presented here are not limited to this notebook alone; you can also employ them in the Chronograf UI's data explorer or when building dashboards. \n",
    "\n",
    "For our purposes, we will be accessing the EFD instance at USDF, utilizing the `usdf_efd` alias. If you're interested, you can explore additional environments available at [Sasquatch environments](https://sasquatch.lsst.io/environments.html).\n"
   ]
  },
  {
   "cell_type": "code",
   "execution_count": null,
   "metadata": {
    "tags": []
   },
   "outputs": [],
   "source": [
    "from lsst_efd_client import EfdClient\n",
    "client = EfdClient('usdf_efd')"
   ]
  },
  {
   "cell_type": "markdown",
   "metadata": {
    "execution": {
     "iopub.execute_input": "2023-07-06T15:58:17.407118Z",
     "iopub.status.busy": "2023-07-06T15:58:17.406722Z",
     "iopub.status.idle": "2023-07-06T15:58:17.409854Z",
     "shell.execute_reply": "2023-07-06T15:58:17.409316Z",
     "shell.execute_reply.started": "2023-07-06T15:58:17.407098Z"
    },
    "tags": []
   },
   "source": [
    "## Listing topics"
   ]
  },
  {
   "cell_type": "code",
   "execution_count": null,
   "metadata": {
    "tags": []
   },
   "outputs": [],
   "source": [
    "topics = await client.get_topics()\n",
    "[topic for topic in topics if \"ATCamera\" in topic]"
   ]
  },
  {
   "cell_type": "markdown",
   "metadata": {
    "execution": {
     "iopub.execute_input": "2023-07-06T15:52:19.173734Z",
     "iopub.status.busy": "2023-07-06T15:52:19.173343Z",
     "iopub.status.idle": "2023-07-06T15:52:19.177864Z",
     "shell.execute_reply": "2023-07-06T15:52:19.177205Z",
     "shell.execute_reply.started": "2023-07-06T15:52:19.173717Z"
    },
    "tags": []
   },
   "source": [
    "\n",
    "## Exploring Topic Schemas\n",
    "\n",
    "The EFD client provides functionality to examine the topic schemas. This enables you to gain insights into the structure and organization of the data.\n"
   ]
  },
  {
   "cell_type": "code",
   "execution_count": null,
   "metadata": {
    "tags": []
   },
   "outputs": [],
   "source": [
    "schema = await client.get_schema(\"lsst.sal.ATCamera.vacuum\")\n",
    "schema"
   ]
  },
  {
   "cell_type": "markdown",
   "metadata": {
    "tags": []
   },
   "source": [
    "## Querying a Topic\n",
    "\n",
    "To perform queries directly using InfluxQL, you can make use of the `influx_client.query()` method in conjunction with the EFD client.\n",
    "\n",
    "For a comprehensive understanding of the InfluxQL query syntax, we recommend referring to the [InfluxQL documentation](https://docs.influxdata.com/influxdb/v1.8/query_language/explore-data/).\n",
    "\n"
   ]
  },
  {
   "cell_type": "code",
   "execution_count": null,
   "metadata": {
    "tags": []
   },
   "outputs": [],
   "source": [
    "query = '''SELECT vacuum FROM \"lsst.sal.ATCamera.vacuum\" WHERE time > now() - 6h '''\n",
    "df = await client.influx_client.query(query)\n",
    "df.head()"
   ]
  },
  {
   "cell_type": "markdown",
   "metadata": {
    "execution": {
     "iopub.execute_input": "2023-07-06T15:54:22.205514Z",
     "iopub.status.busy": "2023-07-06T15:54:22.205232Z",
     "iopub.status.idle": "2023-07-06T15:54:22.209427Z",
     "shell.execute_reply": "2023-07-06T15:54:22.208909Z",
     "shell.execute_reply.started": "2023-07-06T15:54:22.205496Z"
    },
    "tags": []
   },
   "source": [
    "Once you have obtained the query results, you can leverage the power of [Pandas](https://pandas.pydata.org/pandas-docs/stable/reference/index.html) to analyze and manipulate the data.\n",
    "\n",
    "By retrieving additional fields and examining correlations, you can uncover valuable insights from the EFD.\n",
    "\n"
   ]
  },
  {
   "cell_type": "code",
   "execution_count": null,
   "metadata": {
    "tags": []
   },
   "outputs": [],
   "source": [
    "df.plot(y=\"vacuum\")"
   ]
  },
  {
   "cell_type": "code",
   "execution_count": null,
   "metadata": {
    "tags": []
   },
   "outputs": [],
   "source": [
    "query = '''SELECT vacuum, tempCCD FROM \"lsst.sal.ATCamera.vacuum\" WHERE time > now() - 6h '''\n",
    "df = await client.influx_client.query(query)\n",
    "df.head()"
   ]
  },
  {
   "cell_type": "code",
   "execution_count": null,
   "metadata": {
    "tags": []
   },
   "outputs": [],
   "source": [
    "df.plot.scatter(x='vacuum', y='tempCCD')"
   ]
  }
 ],
 "metadata": {
  "kernelspec": {
   "display_name": "LSST",
   "language": "python",
   "name": "lsst"
  },
  "language_info": {
   "codemirror_mode": {
    "name": "ipython",
    "version": 3
   },
   "file_extension": ".py",
   "mimetype": "text/x-python",
   "name": "python",
   "nbconvert_exporter": "python",
   "pygments_lexer": "ipython3",
   "version": "3.10.10"
  }
 },
 "nbformat": 4,
 "nbformat_minor": 4
}
