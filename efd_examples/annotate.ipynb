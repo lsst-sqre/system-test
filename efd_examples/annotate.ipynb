{
 "cells": [
  {
   "cell_type": "code",
   "execution_count": null,
   "metadata": {
    "tags": []
   },
   "outputs": [],
   "source": [
    "from lsst_efd_client import EfdClient\n"
   ]
  },
  {
   "cell_type": "code",
   "execution_count": null,
   "metadata": {
    "tags": []
   },
   "outputs": [],
   "source": [
    "client = EfdClient('summit_efd')"
   ]
  },
  {
   "cell_type": "markdown",
   "metadata": {},
   "source": [
    "## The EFD client annotate() method\n"
   ]
  },
  {
   "cell_type": "code",
   "execution_count": null,
   "metadata": {
    "tags": []
   },
   "outputs": [],
   "source": [
    "async def annotate(topic, field, start, timestamp=\"private_efdStamp\", enum_class=None):\n",
    "    \"\"\"Annotate events in Chronograf.\n",
    "    \n",
    "    Parameters\n",
    "    ----------\n",
    "    topic : `str`\n",
    "        Name of the EFD event topic.\n",
    "    field : `str`\n",
    "        Name of the field with the event to annotate.\n",
    "    start: `str`\n",
    "        Time to start querying events, e.g. \"now()-1d\"\n",
    "    timestamp : `str`\n",
    "        Name of the timestamp field to use for point annotations.\n",
    "    enum_class : `enum` or None\n",
    "        Enum class with event names, use that as the annotation text if provided.\n",
    "    colors : `dict` or None\n",
    "        Dictionary mapping event value to an hex color code\n",
    "    \n",
    "    Returns\n",
    "    -------\n",
    "    result : `bool`\n",
    "        True if successfully write annotations to the chronograf database.\n",
    "    \"\"\"\n",
    "    \n",
    "    # Annotation start_time format is a unix time integer with ns precision\n",
    "    events = await client.influx_client.query(f'''SELECT {field}, {timestamp}*1000000000 AS start_time FROM \"{topic}\" WHERE time > {start}''')\n",
    "\n",
    "    if enum_class:\n",
    "        # Use the event name from the enum class as the annotation text      \n",
    "        events[\"text\"] = events[field].map(lambda x: f'''{enum_class(x).name}''') \n",
    "    else:\n",
    "        events[\"text\"] = events[field]\n",
    "    \n",
    "    # Drop the initial field column \n",
    "    events = events.drop(columns=[field])\n",
    "    \n",
    "    # Add tags\n",
    "    events['csc'] = topic.split(\".\")[2]\n",
    "    events['state'] = events['text']\n",
    "   \n",
    "    # For point annotations, set the modified_time_ns to start_time\n",
    "    events['modified_time_ns'] = events['start_time']\n",
    "\n",
    "    # Annotations have a deleted flag, se to False by default\n",
    "    events['deleted'] = False\n",
    "\n",
    "    # Generate the annotation ID based on the timestmap\n",
    "    events['id'] = events['start_time'].map(lambda x: hex(x))\n",
    "    \n",
    "    # Write annotations to Chronograf\n",
    "    chronograf = EfdClient('summit_efd', db_name='chronograf')\n",
    "    \n",
    "    return await chronograf.influx_client.write(events, measurement=\"annotations\", tag_columns=['csc', 'state', 'id'])\n",
    "    "
   ]
  },
  {
   "cell_type": "markdown",
   "metadata": {
    "tags": []
   },
   "source": [
    "### lsst.sal.MTM1M3.logevent_detailedState events"
   ]
  },
  {
   "cell_type": "code",
   "execution_count": null,
   "metadata": {
    "tags": []
   },
   "outputs": [],
   "source": [
    "await client.get_schema(\"lsst.sal.MTM1M3.logevent_detailedState\")"
   ]
  },
  {
   "cell_type": "code",
   "execution_count": null,
   "metadata": {
    "tags": []
   },
   "outputs": [],
   "source": [
    "from lsst.ts.idl.enums import MTM1M3"
   ]
  },
  {
   "cell_type": "code",
   "execution_count": null,
   "metadata": {
    "tags": []
   },
   "outputs": [],
   "source": [
    "await annotate(topic=\"lsst.sal.MTM1M3.logevent_detailedState\", field=\"detailedState\",  start=\"now()-1d\", enum_class=MTM1M3.DetailedState)"
   ]
  }
 ],
 "metadata": {
  "kernelspec": {
   "display_name": "LSST",
   "language": "python",
   "name": "lsst"
  },
  "language_info": {
   "codemirror_mode": {
    "name": "ipython",
    "version": 3
   },
   "file_extension": ".py",
   "mimetype": "text/x-python",
   "name": "python",
   "nbconvert_exporter": "python",
   "pygments_lexer": "ipython3",
   "version": "3.10.10"
  }
 },
 "nbformat": 4,
 "nbformat_minor": 4
}
