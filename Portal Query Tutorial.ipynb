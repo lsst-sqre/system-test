{
 "cells": [
  {
   "cell_type": "markdown",
   "id": "e055fb2c-df6f-4e69-b181-46139b75c0f1",
   "metadata": {},
   "source": [
    "****Opening a Portal Query in a Notebook****"
   ]
  },
  {
   "cell_type": "markdown",
   "id": "dcaf20f4-1fc4-47e0-9599-0ac6cd246efc",
   "metadata": {},
   "source": [
    "Over in the Portal Aspect, create a query.  Be careful not to run a query that returns a great deal of data if you are using this particular notebook--the `show_in_notebook()` step at the end creates a naive HTML rendering from all the data.  Each query against DP0.2 data returns 991 columns unless you restrict the query.\n",
    "\n",
    "Thus, you have three options.  First (and probably best) would be to limit the columns to the set you're actually interested in.  Second would be to restrict the number of rows to something fairly small (not more than, say, 500) with the box at the bottom left.  Third and least interesting would be to do a search that simply won't return a lot of data, perhaps by doing a very narrow cone search."
   ]
  },
  {
   "cell_type": "markdown",
   "id": "f98a2316-9ca8-47cf-865f-6d209559ca17",
   "metadata": {},
   "source": [
    "Reasonable parameters might be coordinates of `60.4, -35.1`, a radius of 30 arcseconds, and a row limit of 300 (which will not be hit for that particular query)."
   ]
  },
  {
   "cell_type": "markdown",
   "id": "33876a5d-b5b1-4107-a1d8-bb5fa4d7af25",
   "metadata": {},
   "source": [
    "Press \"Search\" in the bottom left.  Once your results are back in the portal, there will be an info button (`i` with a circle around it) halfway down the portal screen on the right.  Choose that.  There will be a \"Job Link\" URL on the info panel, and a button to copy the URL to your clipboard.  Do so."
   ]
  },
  {
   "cell_type": "code",
   "execution_count": null,
   "id": "82928758-8ce6-4fba-8c83-d254479e346a",
   "metadata": {},
   "outputs": [],
   "source": [
    "# Put the URL you got and that is now in your clipboard here, as the value of url_from_portal\n",
    "\n",
    "url_from_portal=\"https://data.lsst.cloud/api/tap/async/vjkvn1pb6xt71gqd\""
   ]
  },
  {
   "cell_type": "code",
   "execution_count": null,
   "id": "2024c60a-9958-4669-b022-4710aee965be",
   "metadata": {},
   "outputs": [],
   "source": [
    "# Get the function to retrieve a query from the portal\n",
    "from lsst.rsp import retrieve_query"
   ]
  },
  {
   "cell_type": "code",
   "execution_count": null,
   "id": "54bb8372-79d4-429f-8d12-ae5c0e63fbc4",
   "metadata": {},
   "outputs": [],
   "source": [
    "# Now get the job state from that URL\n",
    "retrieved_job=retrieve_query(url_from_portal)"
   ]
  },
  {
   "cell_type": "code",
   "execution_count": null,
   "id": "e2578575-7851-4e7c-8ddf-ad35dd6997d1",
   "metadata": {},
   "outputs": [],
   "source": [
    "from time import sleep\n",
    "\n",
    "# Poll with backoff untill job is complete\n",
    "print(f\"Job URL is {retrieved_job.url}\")\n",
    "print(f\"Job phase is {retrieved_job.phase}\")\n",
    "delay = 1  # seconds\n",
    "max_delay = 60 # seconds\n",
    "while retrieved_job.phase != \"COMPLETED\":\n",
    "    print(f\"Waiting {delay}s.\")\n",
    "    sleep(delay)\n",
    "    retrieved_job=retrieve_query(url_from_portal)\n",
    "    print(f\"Job phase is {retrieved_job.phase}\")\n",
    "    delay = delay * 2\n",
    "    if delay > max_delay:\n",
    "        delay = max_delay"
   ]
  },
  {
   "cell_type": "code",
   "execution_count": null,
   "id": "72191b78-b73c-4af0-bb9b-31f067923de2",
   "metadata": {},
   "outputs": [],
   "source": [
    "results = retrieved_job.fetch_result()  # This brings back the data"
   ]
  },
  {
   "cell_type": "code",
   "execution_count": null,
   "id": "a55b0fac-9cd6-48fe-b1c0-d9a45bff22c8",
   "metadata": {},
   "outputs": [],
   "source": [
    "print(f\"Results -> {results}\")"
   ]
  },
  {
   "cell_type": "code",
   "execution_count": null,
   "id": "fc2490cf-da9d-428a-819c-5bc97972f4de",
   "metadata": {},
   "outputs": [],
   "source": [
    "# Render to astropy Table\n",
    "table = results.to_table()"
   ]
  },
  {
   "cell_type": "code",
   "execution_count": null,
   "id": "0c390d87-3cc8-4b5e-85fc-cd738f174aa5",
   "metadata": {},
   "outputs": [],
   "source": [
    "# Pretty-print it.  This is the expensive step for large tables.\n",
    "table.show_in_notebook()"
   ]
  },
  {
   "cell_type": "code",
   "execution_count": null,
   "id": "0aebc705-a37a-4289-9c3e-f74341af723d",
   "metadata": {},
   "outputs": [],
   "source": []
  }
 ],
 "metadata": {
  "kernelspec": {
   "display_name": "LSST",
   "language": "python",
   "name": "lsst"
  },
  "language_info": {
   "codemirror_mode": {
    "name": "ipython",
    "version": 3
   },
   "file_extension": ".py",
   "mimetype": "text/x-python",
   "name": "python",
   "nbconvert_exporter": "python",
   "pygments_lexer": "ipython3",
   "version": "3.10.5"
  }
 },
 "nbformat": 4,
 "nbformat_minor": 5
}
