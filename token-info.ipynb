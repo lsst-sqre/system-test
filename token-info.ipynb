{
 "cells": [
  {
   "cell_type": "markdown",
   "metadata": {},
   "source": [
    "Retrieve the token from the environment and request information about it.\n",
    "This calls two token APIs, one to retrieve information about the user identified by the token, and one to retrieve information about the token itself."
   ]
  },
  {
   "cell_type": "code",
   "execution_count": null,
   "metadata": {},
   "outputs": [],
   "source": [
    "import logging\n",
    "import os\n",
    "import time\n",
    "from urllib.parse import urljoin\n",
    "\n",
    "import requests\n",
    "\n",
    "token = os.getenv('ACCESS_TOKEN', None)\n",
    "\n",
    "if token is None:\n",
    "    logging.fatal('You have no token.')\n",
    "    \n",
    "base_url = os.getenv('EXTERNAL_URL')\n",
    "user_info_url = urljoin(base_url, '/auth/api/v1/user-info')\n",
    "r = requests.get(user_info_url, headers={'Authorization': f'bearer {token}'})\n",
    "data = r.json()\n",
    "\n",
    "print(\"Your username is\", data['username'])\n",
    "print(\"Your name is\", (data.get('name', data['username'])))\n",
    "print(\"Your numeric UID is\", data['uid'])\n",
    "\n",
    "token_info_url = urljoin(base_url, '/auth/api/v1/token-info')\n",
    "r = requests.get(token_info_url, headers={'Authorization': f'bearer {token}'})\n",
    "data = r.json()\n",
    "\n",
    "iat = time.gmtime(int(data['created']))\n",
    "print(\"Your token was issued at UTC:\", time.asctime(iat))\n",
    "\n",
    "exp = time.gmtime(int(data['expires']))\n",
    "print(\"Your token expires at UTC:   \", time.asctime(exp))\n",
    "\n",
    "current_time = time.gmtime()\n",
    "print(\"The time is currently UTC:   \", time.asctime(current_time))\n",
    "\n",
    "if current_time < iat:\n",
    "    logging.error(\"Your token isn't valid yet.\")\n",
    "    \n",
    "if iat < current_time and current_time < exp:\n",
    "    print(\"Your token is VALID.\")\n",
    "\n",
    "if current_time > exp:\n",
    "    logging.error(\"Your token is expired!\")\n",
    "    raise RuntimeError(f\"Your token expired at UTC: {time.asctime(exp)}\")"
   ]
  },
  {
   "cell_type": "code",
   "execution_count": null,
   "metadata": {},
   "outputs": [],
   "source": []
  }
 ],
 "metadata": {
  "kernelspec": {
   "display_name": "LSST",
   "language": "python",
   "name": "lsst"
  },
  "language_info": {
   "codemirror_mode": {
    "name": "ipython",
    "version": 3
   },
   "file_extension": ".py",
   "mimetype": "text/x-python",
   "name": "python",
   "nbconvert_exporter": "python",
   "pygments_lexer": "ipython3",
   "version": "3.8.8"
  }
 },
 "nbformat": 4,
 "nbformat_minor": 4
}
