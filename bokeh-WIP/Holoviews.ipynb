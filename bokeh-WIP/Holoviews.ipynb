{
 "cells": [
  {
   "cell_type": "code",
   "execution_count": null,
   "metadata": {},
   "outputs": [],
   "source": [
    "import numpy as np\n",
    "\n",
    "import holoviews as hv\n",
    "from bokeh.resources import INLINE\n",
    "from bokeh.io import output_notebook\n",
    "from bokeh.layouts import layout\n",
    "from bokeh.models.widgets import Panel, Tabs\n",
    "\n",
    "from lsst.rsp import show_with_bokeh_server\n",
    "\n",
    "output_notebook(INLINE, hide_banner=True)\n",
    "\n",
    "import holoviews as hv\n",
    "renderer = hv.renderer('bokeh')\n",
    "\n",
    "xvals = np.linspace(-4,0,202)\n",
    "yvals = np.linspace(4,0,202)\n",
    "xs,ys = np.meshgrid(xvals, yvals)\n",
    "\n",
    "def waves_image(alpha, beta):\n",
    "    return hv.Image(np.sin(((ys/alpha)**alpha+beta)*xs))#.opts(plot={'width':640, 'height':480})\n",
    "\n",
    "def waves_layout(alpha, beta):\n",
    "    images = [waves_image(alpha, beta) for i in range(6)]\n",
    "    return hv.Layout(images).cols(3)\n",
    "\n",
    "n_dmaps = 4\n",
    "\n",
    "dmaps = [hv.DynamicMap(waves_layout, kdims=['alpha', 'beta']).redim.range(alpha=(0.,5), beta=(1,5)) \n",
    "            for i in range(n_dmaps)]\n",
    "\n",
    "n_dmaps2 = 2\n",
    "\n",
    "dmaps2 = [hv.DynamicMap(waves_layout, kdims=['alpha', 'beta']).redim.range(alpha=(0.,5), beta=(1,5)) \n",
    "            for i in range(n_dmaps2)]\n",
    "\n",
    "def modify_doc(doc):\n",
    "    # Create HoloViews plot and attach the document\n",
    "    # hvplot = renderer.get_widget(dmap, None, doc)\n",
    "    n_tabs = 3\n",
    "    hvplots = [renderer.get_widget(dmap, None, doc) for dmap in dmaps]\n",
    "    hvplots2 = [renderer.get_widget(dmap, None, doc) for dmap in dmaps2]\n",
    "\n",
    "    plots = [layout([hvplot.state], sizing_mode='fixed') for hvplot in hvplots]\n",
    "    plots2 = [layout([hvplot.state], sizing_mode='fixed') for hvplot in hvplots2]\n",
    "\n",
    "    tabs = Tabs(tabs=[Panel(child=plot, title='{}'.format(i))\n",
    "                 for i,plot in enumerate(plots)])\n",
    "    tabs2 = Tabs(tabs=[Panel(child=plot, title='{}'.format(i))\n",
    "                 for i,plot in enumerate(plots2)])\n",
    "\n",
    "    uber_tabs = Tabs(tabs=[Panel(child=t, title='{}'.format(i))\n",
    "                           for i,t in enumerate([tabs, tabs2])])\n",
    "    doc.add_root(uber_tabs)\n",
    "    return doc"
   ]
  },
  {
   "cell_type": "code",
   "execution_count": null,
   "metadata": {},
   "outputs": [],
   "source": [
    "show_with_bokeh_server(modify_doc)"
   ]
  }
 ],
 "metadata": {
  "kernelspec": {
   "display_name": "LSST_Stack (Python 3)",
   "language": "python",
   "name": "lsst_stack"
  },
  "language_info": {
   "codemirror_mode": {
    "name": "ipython",
    "version": 3
   },
   "file_extension": ".py",
   "mimetype": "text/x-python",
   "name": "python",
   "nbconvert_exporter": "python",
   "pygments_lexer": "ipython3",
   "version": "3.6.2"
  }
 },
 "nbformat": 4,
 "nbformat_minor": 2
}
