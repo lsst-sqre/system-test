{
 "cells": [
  {
   "cell_type": "code",
   "execution_count": null,
   "metadata": {},
   "outputs": [],
   "source": [
    "\"\"\"\n",
    "Gapminder demo demonstrating how to combine to extend a HoloViews plot\n",
    "with custom bokeh widgets to deploy an app.\n",
    "\"\"\""
   ]
  },
  {
   "cell_type": "code",
   "execution_count": null,
   "metadata": {},
   "outputs": [],
   "source": [
    "import pandas as pd\n",
    "import numpy as np\n",
    "import holoviews as hv\n",
    "\n",
    "import bokeh\n",
    "from bokeh.resources import INLINE\n",
    "from bokeh.io import output_notebook\n",
    "from bokeh.layouts import layout\n",
    "from bokeh.models import Slider, Button\n",
    "from bokeh.sampledata import gapminder\n",
    "from holoviews.plotting.bokeh import BokehRenderer\n",
    "\n",
    "from lsst.rsp import show_with_bokeh_server\n",
    "\n",
    "bokeh.sampledata.download()"
   ]
  },
  {
   "cell_type": "code",
   "execution_count": null,
   "metadata": {},
   "outputs": [],
   "source": [
    "output_notebook(INLINE, hide_banner=True)"
   ]
  },
  {
   "cell_type": "code",
   "execution_count": null,
   "metadata": {},
   "outputs": [],
   "source": [
    "class gm_plot(object):\n",
    "    def __init__(self, doc):\n",
    "        # Declare dataset\n",
    "        panel = pd.Panel({'Fertility': gapminder.fertility,\n",
    "                          'Population': gapminder.population,\n",
    "                          'Life expectancy': gapminder.life_expectancy})\n",
    "        gapminder_df = panel.to_frame().reset_index().rename(columns={'minor': 'Year'})\n",
    "        gapminder_df = gapminder_df.merge(gapminder.regions.reset_index(), on='Country')\n",
    "        gapminder_df['Country'] = gapminder_df['Country'].astype('str')\n",
    "        gapminder_df['Group'] = gapminder_df['Group'].astype('str')\n",
    "        gapminder_df.Year = gapminder_df.Year.astype('f')\n",
    "        ds = hv.Dataset(gapminder_df)\n",
    "\n",
    "        # Apply dimension labels and ranges\n",
    "        kdims = ['Fertility', 'Life expectancy']\n",
    "        vdims = ['Country', 'Population', 'Group']\n",
    "        dimensions = {\n",
    "            'Fertility' : dict(label='Children per woman (total fertility)', range=(0, 10)),\n",
    "            'Life expectancy': dict(label='Life expectancy at birth (years)', range=(15, 100)),\n",
    "            'Population': ('population', 'Population')\n",
    "        }\n",
    "\n",
    "        # Create Points plotting fertility vs life expectancy indexed by Year\n",
    "        gapminder_ds = ds.redim(**dimensions).to(hv.Points, kdims, vdims, 'Year')\n",
    "\n",
    "        # Define annotations\n",
    "        text = gapminder_ds.clone({yr: hv.Text(1.2, 25, str(int(yr)), fontsize=30)\n",
    "                           for yr in gapminder_ds.keys()})\n",
    "\n",
    "        # Define options\n",
    "        opts = {'plot': dict(width=1000, height=600,tools=['hover'], size_index='Population',\n",
    "                             color_index='Group', size_fn=np.sqrt, title_format=\"{label}\"),\n",
    "                'style': dict(cmap='Set1', size=0.3, line_color='black', alpha=0.6)}\n",
    "        text_opts = {'style': dict(text_font_size='52pt', text_color='lightgray')}\n",
    "\n",
    "        # Combine Points and Text\n",
    "        hvgapminder = (gapminder_ds({'Points': opts}) * text({'Text': text_opts})).relabel('Gapminder Demo')\n",
    "        \n",
    "        self.doc = doc\n",
    "        self.hvplot = BokehRenderer.get_plot(hvgapminder, self.doc)\n",
    "        self.button = Button(label='► Play', width=60)\n",
    "        self.button.on_click(self.animate)\n",
    "        self.start, self.end = ds.range('Year')\n",
    "        self.slider = Slider(start=self.start, end=self.end, value=self.start, step=1, title=\"Year\")\n",
    "        self.slider.on_change('value', self.slider_update)\n",
    "        plot = layout([[self.hvplot.state], [self.slider, self.button]], sizing_mode='fixed')\n",
    "        self.doc.add_root(plot)\n",
    "        \n",
    "    def slider_update(self, attrname, old, new):\n",
    "        self.hvplot.update((new,))\n",
    "        \n",
    "    # Define custom widgets\n",
    "    def animate_update(self):\n",
    "        year = self.slider.value + 1\n",
    "        if year > self.end:\n",
    "            year = self.start\n",
    "        self.slider.value = year\n",
    "\n",
    "    def animate(self):\n",
    "        if self.button.label == '► Play':\n",
    "            self.button.label = '❚❚ Pause'\n",
    "            self.doc.add_periodic_callback(self.animate_update, 200)\n",
    "        else:\n",
    "            self.button.label = '► Play'\n",
    "            self.doc.remove_periodic_callback(self.animate_update)\n",
    "\n",
    "show_with_bokeh_server(gm_plot)"
   ]
  },
  {
   "cell_type": "code",
   "execution_count": null,
   "metadata": {},
   "outputs": [],
   "source": []
  }
 ],
 "metadata": {
  "kernelspec": {
   "display_name": "LSST_Stack (Python 3)",
   "language": "python",
   "name": "lsst_stack"
  },
  "language_info": {
   "codemirror_mode": {
    "name": "ipython",
    "version": 3
   },
   "file_extension": ".py",
   "mimetype": "text/x-python",
   "name": "python",
   "nbconvert_exporter": "python",
   "pygments_lexer": "ipython3",
   "version": "3.6.2"
  }
 },
 "nbformat": 4,
 "nbformat_minor": 2
}
