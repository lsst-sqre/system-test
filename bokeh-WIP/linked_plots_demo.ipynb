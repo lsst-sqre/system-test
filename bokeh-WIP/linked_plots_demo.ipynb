{
 "cells": [
  {
   "cell_type": "code",
   "execution_count": null,
   "metadata": {},
   "outputs": [],
   "source": [
    "%%!\n",
    "if [ ! -d \"$HOME/DATA/quantquote_daily_sp500_83986/daily\" ]; then\n",
    "  cd ~/DATA\n",
    "  curl -O http://quantquote.com/files/quantquote_daily_sp500_83986.zip\n",
    "  unzip quantquote_daily_sp500_83986.zip\n",
    "fi"
   ]
  },
  {
   "cell_type": "code",
   "execution_count": null,
   "metadata": {},
   "outputs": [],
   "source": [
    "import linked_plots as lp\n",
    "from lsst.rsp import show_with_bokeh_server\n",
    "\n",
    "plot = lp.linked_plots()"
   ]
  },
  {
   "cell_type": "code",
   "execution_count": null,
   "metadata": {},
   "outputs": [],
   "source": [
    "show_with_bokeh_server(plot.make_ticker_plot)"
   ]
  }
 ],
 "metadata": {
  "kernelspec": {
   "display_name": "LSST_Stack (Python 3)",
   "language": "python",
   "name": "lsst_stack"
  },
  "language_info": {
   "codemirror_mode": {
    "name": "ipython",
    "version": 3
   },
   "file_extension": ".py",
   "mimetype": "text/x-python",
   "name": "python",
   "nbconvert_exporter": "python",
   "pygments_lexer": "ipython3",
   "version": "3.6.2"
  }
 },
 "nbformat": 4,
 "nbformat_minor": 2
}
