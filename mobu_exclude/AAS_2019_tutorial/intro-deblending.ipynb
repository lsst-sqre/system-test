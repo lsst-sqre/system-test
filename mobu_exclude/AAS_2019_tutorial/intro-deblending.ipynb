{
 "cells": [
  {
   "cell_type": "markdown",
   "metadata": {},
   "source": [
    "## Deblending\n",
    "\n",
    "Deblending attempts to separate detections with multiple peaks into separate objects.  We keep all of the original sources in the `SourceCatalog` (called `parent`s) when we deblend, but for each `parent` source that contains more than one peak, we create a new record (called a `child`) for each of those peaks.  The `Footprint`s attached to the `child` objects are instances of a subclass called `HeavyFootprint`, which include new deblended pixel values as well as the region description.  These can be used by calling `insert` to replace an `Image`'s pixels with the `HeavyFootprint`'s pixels.\n"
   ]
  },
  {
   "cell_type": "code",
   "execution_count": null,
   "metadata": {},
   "outputs": [],
   "source": [
    "import numpy as np\n",
    "import matplotlib\n",
    "import matplotlib.pyplot as plt\n",
    "import lsst.afw.display as afw_display\n",
    "%matplotlib inline\n",
    "matplotlib.rcParams[\"figure.figsize\"] = (8, 6)\n",
    "matplotlib.rcParams[\"font.size\"] = 12\n",
    "matplotlib.rcParams[\"figure.dpi\"] = 120"
   ]
  },
  {
   "cell_type": "code",
   "execution_count": null,
   "metadata": {},
   "outputs": [],
   "source": [
    "from lsst.daf.persistence import Butler\n",
    "\n",
    "datadir = '/home/YOUR_USER_NAME/ci_hsc_small/rerun/YOUR_RERUN_NAME'\n",
    "butler = Butler(datadir)"
   ]
  },
  {
   "cell_type": "markdown",
   "metadata": {},
   "source": [
    "We're going to get the fully calibrated exposure this time (a \"calexp\"), instead of the \"PostISRCCD\" we used for the intro to processCcd. ProcessCcd will have already performed measurement and deblending, but we will repeat those steps so we can investigate how they work."
   ]
  },
  {
   "cell_type": "code",
   "execution_count": null,
   "metadata": {},
   "outputs": [],
   "source": [
    "exposure = butler.get(\"calexp\", visit=903334, ccd=16)"
   ]
  },
  {
   "cell_type": "code",
   "execution_count": null,
   "metadata": {},
   "outputs": [],
   "source": [
    "from lsst.meas.algorithms import SourceDetectionTask\n",
    "from lsst.afw.table import SourceTable, SourceCatalog"
   ]
  },
  {
   "cell_type": "markdown",
   "metadata": {},
   "source": [
    "Remember that we need to initialize all tasks that we plan to run, so that they set up the right catalog schema."
   ]
  },
  {
   "cell_type": "code",
   "execution_count": null,
   "metadata": {},
   "outputs": [],
   "source": [
    "from lsst.meas.deblender import SourceDeblendTask\n",
    "\n",
    "schema = SourceTable.makeMinimalSchema()\n",
    "detectTask = SourceDetectionTask(schema=schema)\n",
    "deblendTask = SourceDeblendTask(schema=schema)"
   ]
  },
  {
   "cell_type": "code",
   "execution_count": null,
   "metadata": {},
   "outputs": [],
   "source": [
    "table = SourceTable.make(schema)\n",
    "detectResult = detectTask.run(table, exposure)"
   ]
  },
  {
   "cell_type": "code",
   "execution_count": null,
   "metadata": {},
   "outputs": [],
   "source": [
    "catalog = detectResult.sources\n",
    "deblendTask.run(exposure, catalog)"
   ]
  },
  {
   "cell_type": "markdown",
   "metadata": {},
   "source": [
    "Now that we have a catalog of deblended sources, we can pick out some interesting ones and plot them."
   ]
  },
  {
   "cell_type": "code",
   "execution_count": null,
   "metadata": {},
   "outputs": [],
   "source": [
    "# Find some blended sources inside the subimage:\n",
    "blendParents = []\n",
    "bbox = exposure.getBBox()\n",
    "for record in catalog:\n",
    "    if record.get(\"deblend_nChild\") > 0 and bbox.contains(record.getFootprint().getBBox()):\n",
    "        blendParents.append(record)\n",
    "# Sort by peak brightness so we can look at something with decent S/N\n",
    "blendParents.sort(key=lambda r: -r.getFootprint().getPeaks()[0].getPeakValue())"
   ]
  },
  {
   "cell_type": "code",
   "execution_count": null,
   "metadata": {},
   "outputs": [],
   "source": [
    "from lsst.afw.image import Image"
   ]
  },
  {
   "cell_type": "markdown",
   "metadata": {},
   "source": [
    "To inspect some deblender outputs, we'll start by finding some parent objects that were deblended into multiple children, by looking at the `deblend_nChild` field (which was added to the `Schema` when we constructed the `SourceDeblendTask`, and populated when we called `run`)."
   ]
  },
  {
   "cell_type": "code",
   "execution_count": null,
   "metadata": {},
   "outputs": [],
   "source": [
    "# Change this number to look at a different blend family.\n",
    "blend_id = 0"
   ]
  },
  {
   "cell_type": "code",
   "execution_count": null,
   "metadata": {},
   "outputs": [],
   "source": [
    "blendParentImage = Image(exposure.image, bbox=blendParents[blend_id].getFootprint().getBBox(),\n",
    "                         deep=True, dtype=np.float32)"
   ]
  },
  {
   "cell_type": "markdown",
   "metadata": {},
   "source": [
    "Now we'll insert the deblended child pixels into blank images of the same size:"
   ]
  },
  {
   "cell_type": "code",
   "execution_count": null,
   "metadata": {},
   "outputs": [],
   "source": [
    "blendChildImages = []\n",
    "for blendChild in catalog.getChildren(blendParents[blend_id].getId()):\n",
    "    image = Image(blendParentImage.getBBox(), dtype=np.float32)\n",
    "    blendChild.getFootprint().insert(image)\n",
    "    blendChildImages.append(image)"
   ]
  },
  {
   "cell_type": "code",
   "execution_count": null,
   "metadata": {},
   "outputs": [],
   "source": [
    "nSubPlots = len(blendChildImages) + 1\n",
    "nCols = 3\n",
    "nRows = nSubPlots//nCols + 1\n",
    "matplotlib.pyplot.subplot(nRows, nCols, 1)\n",
    "#display(blendParentImage, vmin=-0.5, vmax=100, cmap=matplotlib.cm.gray)\n",
    "plt.imshow(blendParentImage.array, vmin=-0.5, vmax=100, cmap='gray')\n",
    "\n",
    "for n, image in enumerate(blendChildImages):\n",
    "    matplotlib.pyplot.subplot(nRows, nCols, n + 2)\n",
    "    plt.imshow(image.array, vmin=-0.5, vmax=10, cmap='gray')\n",
    "    #display(image, vmin=-0.5, vmax=100, cmap=matplotlib.cm.gray)"
   ]
  },
  {
   "cell_type": "markdown",
   "metadata": {},
   "source": [
    "## Measurement\n",
    "\n",
    "`SingleFrameMeasurementTask` is typically responsible for adding most fields to a `SourceCatalog`.  It runs a series of plugins that make different measurements (you can configure them with the `.plugins` dictionary-like field on its config object, and control which are run with `.names`).  If the deblender has been run first, it will measure child objects using their deblended pixels.\n",
    "\n"
   ]
  },
  {
   "cell_type": "code",
   "execution_count": null,
   "metadata": {},
   "outputs": [],
   "source": [
    "from lsst.meas.base import SingleFrameMeasurementTask"
   ]
  },
  {
   "cell_type": "code",
   "execution_count": null,
   "metadata": {},
   "outputs": [],
   "source": [
    "measureConfig = SingleFrameMeasurementTask.ConfigClass()"
   ]
  },
  {
   "cell_type": "code",
   "execution_count": null,
   "metadata": {},
   "outputs": [],
   "source": [
    "# What measurements are configured to run\n",
    "print(measureConfig.plugins.names)"
   ]
  },
  {
   "cell_type": "code",
   "execution_count": null,
   "metadata": {},
   "outputs": [],
   "source": [
    "# Import an extension module that adds a new measurement\n",
    "import lsst.meas.extensions.photometryKron"
   ]
  },
  {
   "cell_type": "code",
   "execution_count": null,
   "metadata": {},
   "outputs": [],
   "source": [
    "# What measurements *could* be configured to run\n",
    "print(list(measureConfig.plugins.keys()))"
   ]
  },
  {
   "cell_type": "code",
   "execution_count": null,
   "metadata": {},
   "outputs": [],
   "source": [
    "# Configure the new measurement to run\n",
    "measureConfig.plugins.names.add(\"ext_photometryKron_KronFlux\")"
   ]
  },
  {
   "cell_type": "code",
   "execution_count": null,
   "metadata": {},
   "outputs": [],
   "source": [
    "\n",
    "schema = SourceTable.makeMinimalSchema()\n",
    "detectTask = SourceDetectionTask(schema=schema)\n",
    "deblendTask = SourceDeblendTask(schema=schema)\n",
    "measureTask = SingleFrameMeasurementTask(schema=schema, config=measureConfig)"
   ]
  },
  {
   "cell_type": "code",
   "execution_count": null,
   "metadata": {},
   "outputs": [],
   "source": [
    "table = SourceTable.make(schema)\n",
    "\n",
    "detectResult = detectTask.run(table, exposure)\n",
    "catalog = detectResult.sources\n",
    "deblendTask.run(exposure, catalog)\n",
    "measureTask.run(catalog, exposure)"
   ]
  },
  {
   "cell_type": "markdown",
   "metadata": {},
   "source": [
    "We'll show some of the results of measurement by overlaying the measured ellipses on the image.\n",
    "\n",
    "The shapes and centroids we use here (by calling `record.getX()`, `record.getY()`, `record.getShape()`) are aliases  (called \"slots\") to fields with longer names that are our recommended measurements for these quantities.  You can see the set of aliases by printing the schema (see next section)."
   ]
  },
  {
   "cell_type": "code",
   "execution_count": null,
   "metadata": {},
   "outputs": [],
   "source": [
    "from lsst.afw.geom.ellipses import Axes"
   ]
  },
  {
   "cell_type": "code",
   "execution_count": null,
   "metadata": {},
   "outputs": [],
   "source": [
    "#display(sub.image, mask=sub.mask, colors={\"DETECTED\": \"blue\"}, vmin=-0.5, vmax=100, cmap=matplotlib.cm.gray)\n",
    "\n",
    "display1 = afw_display.Display(frame=1, backend='matplotlib')\n",
    "display1.scale(\"asinh\", \"zscale\")\n",
    "display1.setMaskTransparency(40)\n",
    "display1.mtv(exposure) #[700:1400,1800:2400])\n",
    "\n",
    "for record in catalog:\n",
    "    if record.get(\"deblend_nChild\") != 0:\n",
    "        continue\n",
    "    axes = Axes(record.getShape())   # convert to A, B, THETA parameterization\n",
    "    axes.scale(2.0)  # matplotlib uses diameters, not radii\n",
    "    patch = matplotlib.patches.Ellipse((record.getX(), record.getY()),\n",
    "                                       axes.getA(), axes.getB(), axes.getTheta() * 180.0 / np.pi,\n",
    "                                      fill=False, edgecolor=\"green\")\n",
    "    matplotlib.pyplot.gca().add_patch(patch)\n"
   ]
  },
  {
   "cell_type": "markdown",
   "metadata": {},
   "source": [
    "## Working With Catalogs"
   ]
  },
  {
   "cell_type": "markdown",
   "metadata": {},
   "source": [
    "Print the schema:"
   ]
  },
  {
   "cell_type": "code",
   "execution_count": null,
   "metadata": {},
   "outputs": [],
   "source": [
    "print(catalog.getSchema())"
   ]
  },
  {
   "cell_type": "markdown",
   "metadata": {},
   "source": [
    "Get arrays of columns (requires the catalog to be continguous in memory, which we can guarantee with a deep copy):"
   ]
  },
  {
   "cell_type": "code",
   "execution_count": null,
   "metadata": {},
   "outputs": [],
   "source": [
    "catalog = catalog.copy(deep=True)"
   ]
  },
  {
   "cell_type": "code",
   "execution_count": null,
   "metadata": {},
   "outputs": [],
   "source": [
    "psfFlux = catalog[\"base_PsfFlux_instFlux\"]"
   ]
  },
  {
   "cell_type": "markdown",
   "metadata": {},
   "source": [
    "Note that boolean values are stored in `Flag` columns, which are packed into bits.  Unlike other column types, when you get an array of a `Flag` column, you get a copy, not a view."
   ]
  },
  {
   "cell_type": "markdown",
   "metadata": {},
   "source": [
    "Use `Key` objects instead of strings to do fast repeated access to fields when iterating over records:"
   ]
  },
  {
   "cell_type": "code",
   "execution_count": null,
   "metadata": {},
   "outputs": [],
   "source": [
    "key = catalog.getSchema().find(\"deblend_nChild\").key\n",
    "deblended = [record for record in catalog if record.get(key) == 0]"
   ]
  },
  {
   "cell_type": "markdown",
   "metadata": {},
   "source": [
    "You can also get `dict` version of a subset of a `Schema`, a `Catalog`, or a `Record` by calling either `extract` methods with a glob:"
   ]
  },
  {
   "cell_type": "code",
   "execution_count": null,
   "metadata": {},
   "outputs": [],
   "source": [
    "catalog[0].extract(\"base_PsfFlux_*\")  # or regex='...'"
   ]
  },
  {
   "cell_type": "markdown",
   "metadata": {},
   "source": [
    "For `Record`s, the dict values are just the values of the fields, and for `Catalogs`, they're `numpy.ndarray` columns.  For `Schema`s they're `SchemaItem`s, which behave liked a named tuple containing a `Key` and a `Field`, which contains more descriptive information."
   ]
  },
  {
   "cell_type": "markdown",
   "metadata": {},
   "source": [
    "Get an Astropy view of the catalog (from which you can make a Pandas view):"
   ]
  },
  {
   "cell_type": "code",
   "execution_count": null,
   "metadata": {},
   "outputs": [],
   "source": [
    "table = catalog.asAstropy()"
   ]
  },
  {
   "cell_type": "markdown",
   "metadata": {},
   "source": [
    "# Exercises\n",
    "\n",
    "1. Add another detect-deblend-measure sequence after PSF modeling at a deeper threshold.\n"
   ]
  }
 ],
 "metadata": {
  "kernelspec": {
   "display_name": "LSST",
   "language": "python",
   "name": "lsst"
  },
  "language_info": {
   "codemirror_mode": {
    "name": "ipython",
    "version": 3
   },
   "file_extension": ".py",
   "mimetype": "text/x-python",
   "name": "python",
   "nbconvert_exporter": "python",
   "pygments_lexer": "ipython3",
   "version": "3.6.6"
  }
 },
 "nbformat": 4,
 "nbformat_minor": 2
}
