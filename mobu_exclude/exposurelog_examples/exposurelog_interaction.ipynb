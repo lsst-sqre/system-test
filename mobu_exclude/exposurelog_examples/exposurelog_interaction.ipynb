{
 "cells": [
  {
   "cell_type": "markdown",
   "id": "18e88c77",
   "metadata": {},
   "source": [
    "# Interacting with the exposure log from a notebook"
   ]
  },
  {
   "cell_type": "markdown",
   "id": "bb10ce2a",
   "metadata": {},
   "source": [
    "## Introduction"
   ]
  },
  {
   "cell_type": "markdown",
   "id": "b705b123",
   "metadata": {},
   "source": [
    "The exposurelog service exposes an endpoint that, depending on how it is called, can perform various actions on the exposure log stored in the database.\n",
    "The intent of this notebook is to show examples of how one can wrap the underlying calls to make the interaction more like other client libraries.\n",
    "The operations that can be done with the service endpoint are to:\n",
    "* Get messages -- by default this is all the messages marked `is_valid`, but can be configured to return all messages\n",
    "* Find a message by ID -- return a message as a dictionary for a particular message id if it exists\n",
    "* Add a message -- Inserts a new message in the database.  By default, the observation ID must already exist in the repository, but if `is_new` is set to `True` the service will not do the check assuming that observation ID will show up in the repository eventually.\n",
    "* Edit a message -- Edit an existing message.  In reality, this creates a new message in the database and marks the old one with `is_valid=False` and associating the new message with the old message ID as its parent.\n",
    "* Delete a message -- This removes a message from the exposurelog, by marking the record associated with the message ID as invalid.\n",
    "* Search for messages -- There are many ways for searching the messages and constraints can be stacked togehter."
   ]
  },
  {
   "cell_type": "markdown",
   "id": "94f9ff2e",
   "metadata": {},
   "source": [
    "## Import some helper functions"
   ]
  },
  {
   "cell_type": "markdown",
   "id": "b438c59c",
   "metadata": {},
   "source": [
    "In principle there can be lots of instances of the exposure log service.\n",
    "The `ENDPOINT` variable configures which particular instance you wish to query."
   ]
  },
  {
   "cell_type": "code",
   "execution_count": null,
   "id": "aa8eaa21",
   "metadata": {},
   "outputs": [],
   "source": [
    "from helpers import (ENDPOINT, add_message, get_messages, get_message_by_id, edit_message,\n",
    "                     delete_message, MessageSearcher, ExposureSearcher)"
   ]
  },
  {
   "cell_type": "markdown",
   "id": "4d75aa83",
   "metadata": {},
   "source": [
    "## Let's try things out"
   ]
  },
  {
   "cell_type": "markdown",
   "id": "5b21f6e1",
   "metadata": {},
   "source": [
    "First, list all valid messages."
   ]
  },
  {
   "cell_type": "markdown",
   "id": "44989a21",
   "metadata": {},
   "source": [
    "By default this will return a `pandas.DataFrame`, but can be configured to return a list of dictionaries instead.\n",
    "Only valid messages are returned unless `all=True` in which case both valid and invalid messages are returned.\n",
    "By default the last 50 messages are returned."
   ]
  },
  {
   "cell_type": "code",
   "execution_count": null,
   "id": "4f8ce39e",
   "metadata": {},
   "outputs": [],
   "source": [
    "valid_messages = get_messages()\n",
    "valid_messages.sort_values(by=['date_added'], ascending=False)  # Sort messages by when they are added with newer ones on top"
   ]
  },
  {
   "cell_type": "markdown",
   "id": "620fdf15",
   "metadata": {},
   "source": [
    "Let's try adding a message.\n",
    "We'll just give the minimum information.\n",
    "Remember we will have to specify `is_new` since we don't have a valid observation id hanging around right now.\n",
    "A copy of the message as it was ingested is returned.\n",
    "\n",
    "If a `user_id` is not specified, it will try to use the username in this container.\n",
    "If a `user_agent` is not specified, a default indicating that the message is coming from a notebook running in nublado.\n",
    "\n",
    "> Note that currently the service does not provide validation of instrument names, so we will have to be fairly rigorous about our conventions for names of the various instruments"
   ]
  },
  {
   "cell_type": "code",
   "execution_count": null,
   "id": "e26e344f",
   "metadata": {},
   "outputs": [],
   "source": [
    "message = add_message('Testing Obs ID', 'AuxTel', 'This is the message text used by the demo notebook', is_new=True)\n",
    "message"
   ]
  },
  {
   "cell_type": "markdown",
   "id": "486d90dc",
   "metadata": {},
   "source": [
    "Now we can get the message back that we put in.\n",
    "\n",
    "Note this is a search by message id.\n",
    "We will show how to search by observation_id a little later in this notebook."
   ]
  },
  {
   "cell_type": "code",
   "execution_count": null,
   "id": "0d634550",
   "metadata": {},
   "outputs": [],
   "source": [
    "new_message = get_message_by_id(message['id'])\n",
    "new_message"
   ]
  },
  {
   "cell_type": "markdown",
   "id": "bbfe6b24",
   "metadata": {},
   "source": [
    "Why not fix up the message a little.\n",
    "Notice that the parent_id in the edited message points to the message we originally added.\n",
    "\n",
    "None of the message fields are required, but specifying none of them will result in an exact copy of the message matching `message_id`.\n",
    "By default this will raise an exception if an invalid message is being edited, but this can be overridden."
   ]
  },
  {
   "cell_type": "code",
   "execution_count": null,
   "id": "221de62a",
   "metadata": {},
   "outputs": [],
   "source": [
    "edit_message = edit_message(message['id'], message_text='An example of changing the message text after the fact')\n",
    "edit_message"
   ]
  },
  {
   "cell_type": "markdown",
   "id": "e6da6e8f",
   "metadata": {},
   "source": [
    "We can see both the parent message and the edited one by looking at the list of all messages.\n",
    "Notice the original message still exists, but is now marked invalid."
   ]
  },
  {
   "cell_type": "code",
   "execution_count": null,
   "id": "94104491",
   "metadata": {},
   "outputs": [],
   "source": [
    "all_messages = get_messages(all=True)\n",
    "all_messages.sort_values(by=['date_added'], ascending=False)"
   ]
  },
  {
   "cell_type": "markdown",
   "id": "a7b3b69c",
   "metadata": {},
   "source": [
    "It turns out we don't want that message after all.\n",
    "Remember we edited the message, so we need to use the id of the edited message, not the original we added.\n",
    "Then list all messages to confirm it is now invalid."
   ]
  },
  {
   "cell_type": "code",
   "execution_count": null,
   "id": "638efa28",
   "metadata": {},
   "outputs": [],
   "source": [
    "delete_message(edit_message['id'])"
   ]
  },
  {
   "cell_type": "code",
   "execution_count": null,
   "id": "d87a065e",
   "metadata": {},
   "outputs": [],
   "source": [
    "all_messages = get_messages(all=True)\n",
    "all_messages.sort_values(by=['date_added'], ascending=False)"
   ]
  },
  {
   "cell_type": "markdown",
   "id": "527ba463",
   "metadata": {},
   "source": [
    "So far, we have been dealing with ad hoc messages.\n",
    "Let's try adding a message associated with an observation that exists in the registry.\n",
    "First, get a list of the exposures by searching for them.\n",
    "We will only specify the instrument which will get us the most recent 50 exposures."
   ]
  },
  {
   "cell_type": "code",
   "execution_count": null,
   "id": "d7471c76",
   "metadata": {},
   "outputs": [],
   "source": [
    "exps = ExposureSearcher(instrument='HSC').search()\n",
    "exps"
   ]
  },
  {
   "cell_type": "markdown",
   "id": "c5c856f8",
   "metadata": {},
   "source": [
    "We'll just take the first observation ID and add a message associated with it"
   ]
  },
  {
   "cell_type": "code",
   "execution_count": null,
   "id": "5ca4f196",
   "metadata": {},
   "outputs": [],
   "source": [
    "obs_id = exps['obs_id'][0]\n",
    "inst = exps['instrument'][0]\n",
    "message = add_message(obs_id, inst, f'This is a test message associated with exposure {obs_id}')\n",
    "message"
   ]
  },
  {
   "cell_type": "markdown",
   "id": "e98d223f",
   "metadata": {},
   "source": [
    "Verify we have put a message in associated with that observation ID"
   ]
  },
  {
   "cell_type": "code",
   "execution_count": null,
   "id": "8dd98a67",
   "metadata": {},
   "outputs": [],
   "source": [
    "messages = MessageSearcher(obs_id=obs_id).search()\n",
    "messages"
   ]
  }
 ],
 "metadata": {
  "kernelspec": {
   "display_name": "LSST",
   "language": "python",
   "name": "lsst"
  },
  "language_info": {
   "codemirror_mode": {
    "name": "ipython",
    "version": 3
   },
   "file_extension": ".py",
   "mimetype": "text/x-python",
   "name": "python",
   "nbconvert_exporter": "python",
   "pygments_lexer": "ipython3",
   "version": "3.8.8"
  }
 },
 "nbformat": 4,
 "nbformat_minor": 5
}
