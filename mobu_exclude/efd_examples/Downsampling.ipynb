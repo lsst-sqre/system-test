{
 "cells": [
  {
   "cell_type": "markdown",
   "metadata": {},
   "source": [
    "### Downsampling data with the GROUP BY time() clause"
   ]
  },
  {
   "cell_type": "markdown",
   "metadata": {},
   "source": [
    "Pandas provides ways to [downsample](https://pandas.pydata.org/docs/reference/api/pandas.DataFrame.resample.html) the dataframes returned by the EFD client.\n",
    "\n",
    "However, downsampling using InfluxQL make it practical to query larger time ranges. (https://docs.influxdata.com/influxdb/v1.8/query_language/explore-data/#basic-group-by-time-syntax) \n",
    "\n",
    "The [GROUP BY time()](https://docs.influxdata.com/influxdb/v1.8/query_language/explore-data/#basic-group-by-time-syntax) clause allows you to specify an [interval](https://docs.influxdata.com/influxdb/v1.8/query_language/spec/#durations) to group your data and apply an aggregation function on each group. \n",
    "\n",
    "When using `GROUP BY time(interval)` a function must be supplied for any field being returned.\n",
    "Common functions to use will be [aggregations](https://docs.influxdata.com/influxdb/v1.8/query_language/functions/#aggregations) and [selectors](https://docs.influxdata.com/influxdb/v1.8/query_language/functions/#selectors). \n",
    "\n"
   ]
  },
  {
   "cell_type": "code",
   "execution_count": null,
   "metadata": {
    "tags": []
   },
   "outputs": [],
   "source": [
    "%matplotlib widget\n",
    "from matplotlib import pylab as plt\n",
    "\n",
    "from lsst_efd_client import EfdClient"
   ]
  },
  {
   "cell_type": "code",
   "execution_count": null,
   "metadata": {
    "tags": []
   },
   "outputs": [],
   "source": [
    "client = EfdClient('usdf_efd')"
   ]
  },
  {
   "cell_type": "markdown",
   "metadata": {
    "tags": []
   },
   "source": [
    "Here we use the `GROUP BY time(1m)`  function to group the data in intervals of 1 minute and use the `mean()` function to compute the mean value in each interval. "
   ]
  },
  {
   "cell_type": "code",
   "execution_count": null,
   "metadata": {
    "tags": []
   },
   "outputs": [],
   "source": [
    "query = '''SELECT mean(vacuum) AS mean_vacuum FROM \"lsst.sal.ATCamera.vacuum\" WHERE time > now() - 30d GROUP BY time(1m)'''\n",
    "\n",
    "result = await client.influx_client.query(query)"
   ]
  },
  {
   "cell_type": "code",
   "execution_count": null,
   "metadata": {
    "tags": []
   },
   "outputs": [],
   "source": [
    "result.plot(y=\"mean_vacuum\")        "
   ]
  }
 ],
 "metadata": {
  "kernelspec": {
   "display_name": "LSST",
   "language": "python",
   "name": "lsst"
  },
  "language_info": {
   "codemirror_mode": {
    "name": "ipython",
    "version": 3
   },
   "file_extension": ".py",
   "mimetype": "text/x-python",
   "name": "python",
   "nbconvert_exporter": "python",
   "pygments_lexer": "ipython3",
   "version": "3.10.10"
  }
 },
 "nbformat": 4,
 "nbformat_minor": 4
}
