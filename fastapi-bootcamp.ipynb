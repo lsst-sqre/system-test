{
 "cells": [
  {
   "cell_type": "markdown",
   "id": "509fc2a8-2d63-4b59-bd5f-d236f38dd693",
   "metadata": {},
   "source": [
    "# Notebook, to be executed by mobu, to test fastapi-bootcamp"
   ]
  },
  {
   "cell_type": "markdown",
   "id": "8b2efe06-cc6b-42bb-a64e-a92914e2177c",
   "metadata": {},
   "source": [
    "## Get an HTTP client for the service"
   ]
  },
  {
   "cell_type": "code",
   "execution_count": null,
   "id": "33e13e62-6d3d-46c9-af57-9c12767a172d",
   "metadata": {
    "editable": true,
    "slideshow": {
     "slide_type": ""
    },
    "tags": []
   },
   "outputs": [],
   "source": [
    "# RSPClient is in \"recommended\" as of 09 May 2024, and in w_2024_19 and later\n",
    "# For earlier images, you'll need to construct your own client.\n",
    "\n",
    "from lsst.rsp import RSPClient\n",
    "\n",
    "http_client = RSPClient(\"/fastapi-bootcamp\")"
   ]
  },
  {
   "cell_type": "markdown",
   "id": "ec531aed-b92d-4563-af91-c0a3522d8b4c",
   "metadata": {},
   "source": [
    "## Test application endpoints"
   ]
  },
  {
   "cell_type": "markdown",
   "id": "eb880f14-afbf-478d-ab96-fd2f2e4a4d12",
   "metadata": {},
   "source": [
    "### Get JSON metadata"
   ]
  },
  {
   "cell_type": "code",
   "execution_count": null,
   "id": "0f8c8cd1-ccb8-4b61-af1a-1452e117d293",
   "metadata": {},
   "outputs": [],
   "source": [
    "resp = (await http_client.get(\"/\")).json()\n",
    "assert resp[\"metadata\"][\"repository_url\"] == \"https://github.com/lsst-sqre/fastapi-bootcamp\""
   ]
  },
  {
   "cell_type": "markdown",
   "id": "36c6a7b0-1385-4a73-806f-af0b02f625be",
   "metadata": {
    "editable": true,
    "slideshow": {
     "slide_type": ""
    },
    "tags": []
   },
   "source": [
    "### Get a basic greeting"
   ]
  },
  {
   "cell_type": "code",
   "execution_count": null,
   "id": "85557a96-09a0-4a63-80f1-c6da9ef37c90",
   "metadata": {
    "editable": true,
    "slideshow": {
     "slide_type": ""
    },
    "tags": []
   },
   "outputs": [],
   "source": [
    "resp = (await http_client.get(\"/hello\")).json()\n",
    "assert resp == \"Hello, SQuaRE Services Bootcamp!\""
   ]
  },
  {
   "cell_type": "markdown",
   "id": "378b8314-be4f-4d44-afa8-d9777e3d1511",
   "metadata": {},
   "source": [
    "### Get a JSON greeting in English"
   ]
  },
  {
   "cell_type": "code",
   "execution_count": null,
   "id": "dc50ed6d-23ae-4303-bbd6-8b4b7ff06b08",
   "metadata": {},
   "outputs": [],
   "source": [
    "resp = (await http_client.get(\"/en-greeting\")).json()\n",
    "assert resp[\"greeting\"] == \"Hello, SQuaRE Services Bootcamp!\""
   ]
  },
  {
   "cell_type": "markdown",
   "id": "60171445-75ae-4a88-b12f-fe36e01393f9",
   "metadata": {},
   "source": [
    "### Get a JSON Greeting in French"
   ]
  },
  {
   "cell_type": "code",
   "execution_count": null,
   "id": "62afc7d3-e3c9-4ddc-9e15-639cdd0215c5",
   "metadata": {},
   "outputs": [],
   "source": [
    "resp = (await http_client.get(\"/greeting\", params={\"language\": \"fr\"})).json()\n",
    "assert resp[\"greeting\"] == \"Bonjour, SQuaRE Services Bootcamp!\""
   ]
  },
  {
   "cell_type": "markdown",
   "id": "562cb489-9550-47b8-9c1e-489769eb1bbf",
   "metadata": {},
   "source": [
    "### Get a JSON greeting, POST-style"
   ]
  },
  {
   "cell_type": "code",
   "execution_count": null,
   "id": "84de4735-7ecc-4b84-9e8a-ff75adcc7986",
   "metadata": {},
   "outputs": [],
   "source": [
    "payload = { \"name\": \"Mobu bot\",\n",
    "            \"language\": \"es\" }\n",
    "resp = (await http_client.post(\"/greeting\", json=payload)).json()\n",
    "assert resp[\"greeting\"] == \"¡Hola, Mobu bot!\""
   ]
  },
  {
   "cell_type": "markdown",
   "id": "86f35ca1-8932-4e8e-844a-757b090c095e",
   "metadata": {},
   "source": [
    "### Get a JSON greeting, with the parameter in the path"
   ]
  },
  {
   "cell_type": "code",
   "execution_count": null,
   "id": "6b2bc1c8-4483-42f7-b9aa-b490ec6b1833",
   "metadata": {},
   "outputs": [],
   "source": [
    "resp = (await http_client.get(\"/greeting/es\")).json()\n",
    "assert resp[\"greeting\"] == \"¡Hola, SQuaRE Services Bootcamp!\""
   ]
  },
  {
   "cell_type": "markdown",
   "id": "ee660453-5eab-4e25-ad7f-5a4d955d92bd",
   "metadata": {},
   "source": [
    "### Log a message"
   ]
  },
  {
   "cell_type": "code",
   "execution_count": null,
   "id": "cff16b03-27cb-4aee-8b1e-2bbcefc3e443",
   "metadata": {
    "editable": true,
    "slideshow": {
     "slide_type": ""
    },
    "tags": []
   },
   "outputs": [],
   "source": [
    "payload = { \"name\": \"Mobu bot\",\n",
    "            \"language\": \"fr\" }\n",
    "resp = (await http_client.post(\"/log-demo\", json=payload)).json()\n",
    "assert resp[\"greeting\"] == \"Bonjour, Mobu bot!\""
   ]
  },
  {
   "cell_type": "markdown",
   "id": "cfb185b1-5b69-49eb-877f-215b44c9ce0c",
   "metadata": {},
   "source": [
    "### Don't test \"Raise An Internal Service Exception\"\n",
    "\n",
    "Sure, we could hit this endpoint too...but since this is designed to run with Mobu, we will not do so, because we don't want our Slack channel to fill with spam."
   ]
  },
  {
   "cell_type": "markdown",
   "id": "77ddaa79-bbdc-40a4-a106-e81fb4ba5093",
   "metadata": {},
   "source": [
    "### Demonstrate Custom Dependencies"
   ]
  },
  {
   "cell_type": "code",
   "execution_count": null,
   "id": "2263b122-0039-42e0-9dd0-16860effa933",
   "metadata": {},
   "outputs": [],
   "source": [
    "# Here, the service picks a different value each time it starts.\n",
    "\n",
    "resp = (await http_client.get(\"/dependency-demo\")).json()\n",
    "adjective, animal = resp[\"persistent_value\"].split()\n",
    "assert adjective and animal  # Both should be truthy"
   ]
  },
  {
   "cell_type": "markdown",
   "id": "d61bbeb9-0163-4ab0-9222-508ac4a359f7",
   "metadata": {},
   "source": [
    "### Astroplan: get all observers"
   ]
  },
  {
   "cell_type": "code",
   "execution_count": null,
   "id": "04662d46-afa2-45b4-a38d-75cac53fc0a9",
   "metadata": {
    "editable": true,
    "slideshow": {
     "slide_type": ""
    },
    "tags": []
   },
   "outputs": [],
   "source": [
    "# This is a paginated list, so we have to make multiple calls to get all observers\n",
    "\n",
    "page=1  # This API is one-indexed\n",
    "total=0 # Total number of observatories listed\n",
    "\n",
    "observer_list: list[str] = []\n",
    "\n",
    "while True:\n",
    "    resp = (await http_client.get(\n",
    "        \"/astroplan/observers/\",params={\"page\":page}\n",
    "    )).json()\n",
    "    # Find out how many we're supposed to get, if we don't know yet.\n",
    "    if not total:\n",
    "        total = resp[\"pagination\"][\"total\"]\n",
    "    # Add the IDs for each observatory on this page\n",
    "    for obsv in resp[\"data\"]:\n",
    "        observer_list.append(obsv[\"id\"])\n",
    "    # If we've run out of pages, we are done\n",
    "    if not resp[\"pagination\"][\"next_url\"]:\n",
    "        break\n",
    "    # We don't use next_url, because our client already knows most of the URL.\n",
    "    page += 1\n",
    "    \n",
    "assert \"gemini-north\" in observer_list and len(observer_list) == total"
   ]
  },
  {
   "cell_type": "markdown",
   "id": "8d69384c-225c-4d1d-94e9-746eb84bb8d5",
   "metadata": {},
   "source": [
    "### Astroplan: get observer by param"
   ]
  },
  {
   "cell_type": "code",
   "execution_count": null,
   "id": "b428608e-6fd9-4e12-83ad-afd895250726",
   "metadata": {},
   "outputs": [],
   "source": [
    "resp = (await http_client.get(\"/astroplan/observers/\",params={\"name\":\"icecube\"})).json()\n",
    "# We get back the paginated list again, but we know the length of 'data' will be 1\n",
    "obsv = resp[\"data\"][0]\n",
    "assert obsv[\"longitude\"] == 0.0 and obsv[\"latitude\"] == -90.0"
   ]
  },
  {
   "cell_type": "markdown",
   "id": "7ad7dbbf-177f-461b-97ae-dd6d0a7f0461",
   "metadata": {},
   "source": [
    "### Astroplan: get observer by site ID"
   ]
  },
  {
   "cell_type": "code",
   "execution_count": null,
   "id": "b87c9321-5c81-42c4-8fb6-e75ebceb1a4f",
   "metadata": {},
   "outputs": [],
   "source": [
    "from pytest import approx\n",
    "\n",
    "resp = (await http_client.get(\"/astroplan/observers/rubin\")).json()\n",
    "assert resp[\"elevation\"] == approx(2662.75)  # Floats aren't real!"
   ]
  },
  {
   "cell_type": "markdown",
   "id": "69455fa9-628f-4079-81a9-1bee180f59af",
   "metadata": {},
   "source": [
    "### Astroplan: check if coordinate is observable for observer at given time"
   ]
  },
  {
   "cell_type": "code",
   "execution_count": null,
   "id": "cd76eab0-6604-453b-b07e-3fdaeb1bac8e",
   "metadata": {
    "editable": true,
    "slideshow": {
     "slide_type": ""
    },
    "tags": []
   },
   "outputs": [],
   "source": [
    "payload = { \"ra\": \"5h23m34s\",\n",
    "            \"dec\": \"-69d45m22s\",  # LMC\n",
    "            \"time\": \"2024-06-13T05:45:23Z\"\n",
    "          }\n",
    "resp = (await http_client.post(\"/astroplan/observers/rubin/observable\", json=payload)).json()\n",
    "# The LMC should be visible at that time\n",
    "assert resp[\"is_night\"] and resp[\"above_horizon\"]"
   ]
  }
 ],
 "metadata": {
  "kernelspec": {
   "display_name": "LSST",
   "language": "python",
   "name": "lsst"
  },
  "language_info": {
   "codemirror_mode": {
    "name": "ipython",
    "version": 3
   },
   "file_extension": ".py",
   "mimetype": "text/x-python",
   "name": "python",
   "nbconvert_exporter": "python",
   "pygments_lexer": "ipython3",
   "version": "3.11.7"
  }
 },
 "nbformat": 4,
 "nbformat_minor": 5
}
