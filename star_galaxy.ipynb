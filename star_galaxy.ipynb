{
 "cells": [
  {
   "cell_type": "markdown",
   "metadata": {},
   "source": [
    "# A very simple example of star/galaxy separation"
   ]
  },
  {
   "cell_type": "markdown",
   "metadata": {},
   "source": [
    "### First set up some `matplotlib` defaults"
   ]
  },
  {
   "cell_type": "code",
   "execution_count": null,
   "metadata": {},
   "outputs": [],
   "source": [
    "%matplotlib inline\n",
    "import matplotlib.pyplot as plt\n",
    "plt.rcParams['figure.figsize'] = (13, 8)"
   ]
  },
  {
   "cell_type": "markdown",
   "metadata": {},
   "source": [
    "### Next import modules for use later"
   ]
  },
  {
   "cell_type": "code",
   "execution_count": null,
   "metadata": {},
   "outputs": [],
   "source": [
    "import numpy\n",
    "from lsst.daf.butler import Butler\n",
    "from lsst.geom import Box2I, Point2I, Extent2I, Box2D"
   ]
  },
  {
   "cell_type": "markdown",
   "metadata": {},
   "source": [
    "### Define a utility function for use later"
   ]
  },
  {
   "cell_type": "markdown",
   "metadata": {},
   "source": [
    "This function is a very simple image display tool.  It will plot a sub-region if you want and will overlay sources if you pass a catalog."
   ]
  },
  {
   "cell_type": "code",
   "execution_count": null,
   "metadata": {},
   "outputs": [],
   "source": [
    "def overlay_masks(exposure, bbox=None, sources=None):\n",
    "    masked_image = exposure.getMaskedImage()\n",
    "    if bbox is not None:\n",
    "        masked_image = masked_image.Factory(masked_image, bbox)\n",
    "    (img, mask, var) = masked_image.getArrays()\n",
    "    plt.imshow(numpy.log10(img-2*img.min()), interpolation='nearest', cmap='gray')\n",
    "    plt.imshow(mask, interpolation='nearest', cmap='Blues', alpha=0.3)\n",
    "    if sources is not None:\n",
    "        testbox = Box2D(bbox) # convert to a floating point box\n",
    "        for source in sources:\n",
    "            if testbox.contains(source.getCentroid()):\n",
    "                # Need to account for difference in pixel indexing between matplotlib and stack\n",
    "                plt.scatter(source.getX()-testbox.getMinX()-0.5, source.getY()-testbox.getMinY()-0.5, \n",
    "                            marker='+', c='r', alpha=0.5)\n",
    "    plt.show()"
   ]
  },
  {
   "cell_type": "markdown",
   "metadata": {},
   "source": [
    "### Make a butler\n",
    "The `Butler` is the data abstraction layer for our stack.  Simply instantiate with a path to a valid repository.  Then you can ask for data be type and a set of unique identifiers.  In this case, I'm getting a calibrated exposure, or `calexp`."
   ]
  },
  {
   "cell_type": "code",
   "execution_count": null,
   "metadata": {},
   "outputs": [],
   "source": [
    "butler = Butler('/project/shared/data/RSP_CHECK_REPO/butler.yaml')\n",
    "exp = butler.get('calexp', visit=1228, detector=87, instrument='HSC', collections='HSC/defaults')"
   ]
  },
  {
   "cell_type": "markdown",
   "metadata": {},
   "source": [
    "### Now let's do something with the exposure\n",
    "First we construct a bounding box for a subregion in the image.  Then get a source catalog using the `Butler`.  Finally, use the utility function above to plot the image, masks, and source."
   ]
  },
  {
   "cell_type": "code",
   "execution_count": null,
   "metadata": {},
   "outputs": [],
   "source": [
    "bbox = Box2I(Point2I(1350, 1200), Extent2I(400,400))\n",
    "sources = butler.get('src', visit=1228, detector=87, instrument='HSC', collections='HSC/defaults')\n",
    "overlay_masks(exp, bbox=bbox, sources=sources)"
   ]
  },
  {
   "cell_type": "markdown",
   "metadata": {},
   "source": [
    "### Let's do a simple analysis\n",
    "First calculate the ratio of the model flux to the PSF flux.  This is basically a measure of how much the source looks like a point source."
   ]
  },
  {
   "cell_type": "code",
   "execution_count": null,
   "metadata": {},
   "outputs": [],
   "source": [
    "x = sources.getPsfInstFlux()\n",
    "y = sources.getModelInstFlux()/sources.getPsfInstFlux()\n",
    "x = numpy.array(x)\n",
    "y = numpy.array(y)"
   ]
  },
  {
   "cell_type": "markdown",
   "metadata": {},
   "source": [
    "The stack provides a measurement for extendedness as well.  Separate stars from galaxies using this value."
   ]
  },
  {
   "cell_type": "code",
   "execution_count": null,
   "metadata": {},
   "outputs": [],
   "source": [
    "extend = sources.get('base_ClassificationExtendedness_value')\n",
    "stars = numpy.where(extend==0.0)[0]\n",
    "galaxies = numpy.where(extend>0.)[0]\n",
    "plt.scatter(x[stars], y[stars], alpha=0.3)\n",
    "plt.scatter(x[galaxies], y[galaxies], c='r', alpha=0.3)\n",
    "plt.xlim(100000, 1000)\n",
    "plt.ylim(-1, 5)\n",
    "plt.show()"
   ]
  },
  {
   "cell_type": "markdown",
   "metadata": {},
   "source": [
    "Notice how all points above a certain threshold are red.  This simply shows that the default star/galaxy separator in this reduction is a cut in the model flux/PSF flux ratio."
   ]
  }
 ],
 "metadata": {
  "kernelspec": {
   "display_name": "LSST",
   "language": "python",
   "name": "lsst"
  },
  "language_info": {
   "codemirror_mode": {
    "name": "ipython",
    "version": 3
   },
   "file_extension": ".py",
   "mimetype": "text/x-python",
   "name": "python",
   "nbconvert_exporter": "python",
   "pygments_lexer": "ipython3",
   "version": "3.8.8"
  }
 },
 "nbformat": 4,
 "nbformat_minor": 4
}
